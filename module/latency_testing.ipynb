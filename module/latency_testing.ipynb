{
 "cells": [
  {
   "cell_type": "code",
   "execution_count": null,
   "metadata": {},
   "outputs": [],
   "source": [
    "import requests\n",
    "import time\n",
    "import random\n",
    "import pandas as pd"
   ]
  },
  {
   "cell_type": "code",
   "execution_count": null,
   "metadata": {},
   "outputs": [],
   "source": [
    "TARGET_LATENCY = 0.5  # Target latency in seconds (500ms p95)\n",
    "NUM_REQUESTS = 1000   # Number of requests for statistically valid sample\n",
    "PLATFORMS = ['Facebook', 'Reddit', 'Twitter']"
   ]
  },
  {
   "cell_type": "code",
   "execution_count": null,
   "metadata": {},
   "outputs": [],
   "source": [
    "dataset = pd.read_csv('dataset.csv')\n",
    "\n",
    "# DataFrame to store latency, platform, and number of items\n",
    "results_df = pd.DataFrame(columns=['Platform', 'Latency', 'Num_Items'])"
   ]
  },
  {
   "cell_type": "code",
   "execution_count": null,
   "metadata": {},
   "outputs": [],
   "source": [
    "def issue_request(platform, content):\n",
    "    start_time = time.time()\n",
    "    # Make request to ranking endpoint with content\n",
    "    # Replace 'ranking_endpoint' with actual endpoint URL\n",
    "    response = requests.post('ranking_endpoint', json={'content': content})\n",
    "    end_time = time.time()\n",
    "    latency = end_time - start_time\n",
    "    # Store latency, platform, and number of items in DataFrame\n",
    "    results_df.loc[len(results_df)] = [platform, latency, len(content['comments'])]\n",
    "    return latency\n"
   ]
  },
  {
   "cell_type": "code",
   "execution_count": null,
   "metadata": {},
   "outputs": [],
   "source": [
    "# generate realistic data here--this will just be loaded \n",
    "def generate_content(platform):\n",
    "    content = None #need to figure out data structure (ask James) but I feel like\n",
    "    #we can just draw a sample from the sample data \n",
    "    #what does realistic mean here?\n",
    "    #needs to have a mix of political vs. non-political etc. \n",
    "    #just iterate through the data that james sends \n",
    "\n",
    "\n",
    "    #dataset will be 50-100 posts, randomly sample 500-1000 posts from platform \n",
    "    # no repeats in front 50, tagging occured posts and building in a random proportion of those \n",
    "    #requests should come from multiple users and include survey responses for some (not all) users \n",
    "\n",
    "    return content"
   ]
  },
  {
   "cell_type": "code",
   "execution_count": null,
   "metadata": {},
   "outputs": [],
   "source": [
    "# Main function to run the test\n",
    "def run_test():\n",
    "    for platform in PLATFORMS:\n",
    "        for _ in range(NUM_REQUESTS):\n",
    "            latency = issue_request(platform)\n",
    "            print(f'Request to {platform} took {latency} seconds')"
   ]
  },
  {
   "cell_type": "code",
   "execution_count": null,
   "metadata": {},
   "outputs": [],
   "source": [
    "# Execute the test\n",
    "run_test()"
   ]
  }
 ],
 "metadata": {
  "language_info": {
   "name": "python"
  }
 },
 "nbformat": 4,
 "nbformat_minor": 2
}
