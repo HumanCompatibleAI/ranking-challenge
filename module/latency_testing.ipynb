{
 "cells": [
  {
   "cell_type": "code",
   "execution_count": 19,
   "metadata": {},
   "outputs": [],
   "source": [
    "import requests\n",
    "import time\n",
    "import random\n",
    "import pandas as pd\n"
   ]
  },
  {
   "cell_type": "code",
   "execution_count": 20,
   "metadata": {},
   "outputs": [],
   "source": [
    "facebook = pd.read_json('facebook_feed.json')\n",
    "reddit = pd.read_json('reddit_feed.json')\n",
    "twitter = pd.read_json('twitter_feed.json')"
   ]
  },
  {
   "cell_type": "code",
   "execution_count": 21,
   "metadata": {},
   "outputs": [],
   "source": [
    "TARGET_LATENCY = 0.5  # Target latency in seconds (500ms p95)\n",
    "NUM_REQUESTS = 600   # Number of requests for each platform to generate a statistically valid sample\n",
    "PLATFORMS = ['Facebook', 'Reddit', 'Twitter']\n",
    "SAMPLES = {'Facebook' : facebook, 'Reddit' : reddit, 'Twitter': twitter}"
   ]
  },
  {
   "cell_type": "code",
   "execution_count": 22,
   "metadata": {},
   "outputs": [],
   "source": [
    "# DataFrame to store latency, platform, and number of items\n",
    "results_df = pd.DataFrame(columns=['Platform', 'Latency', 'Num_Items'])"
   ]
  },
  {
   "cell_type": "code",
   "execution_count": 23,
   "metadata": {},
   "outputs": [],
   "source": [
    "# Generates the next request for the platform by iterating through the \n",
    "# dataframe for the next sample, and returning it in json format. Goes through\n",
    "# each \n",
    "selected_rows = {}\n",
    "def generate_content(platform):\n",
    "    selected_rows = {}\n",
    "    df = SAMPLES.get(platform)\n",
    "    \n",
    "    selected_indices = selected_rows.get(platform, [])\n",
    "    filtered_df = df[~df.index.isin(selected_indices)]\n",
    "    \n",
    "    next_row = filtered_df.iloc[0] if not filtered_df.empty else None\n",
    "    \n",
    "    # Update selected_rows dictionary\n",
    "    if next_row is not None:\n",
    "        selected_indices.append(next_row.name)\n",
    "        selected_rows[platform] = selected_indices\n",
    "    \n",
    "    return next_row.to_json()"
   ]
  },
  {
   "cell_type": "code",
   "execution_count": 24,
   "metadata": {},
   "outputs": [],
   "source": [
    "def issue_request(platform):\n",
    "    content = generate_content(platform)\n",
    "    start_time = time.time()\n",
    "    response = requests.post('/rank', json={'content': content})\n",
    "    #should I be storing this response somewhere?\n",
    "    end_time = time.time()\n",
    "    latency = end_time - start_time\n",
    "    # Store latency, platform, and number of items in DataFrame\n",
    "    results_df.loc[len(results_df)] = [platform, latency, len(content['comments'])]\n",
    "    return latency\n"
   ]
  },
  {
   "cell_type": "code",
   "execution_count": 25,
   "metadata": {},
   "outputs": [],
   "source": [
    "# Main function to run the test\n",
    "def run_test():\n",
    "    for platform in PLATFORMS:\n",
    "        for _ in range(NUM_REQUESTS):\n",
    "            latency = issue_request(platform)\n",
    "            print(f'Request to {platform} took {latency} seconds')"
   ]
  },
  {
   "cell_type": "code",
   "execution_count": 26,
   "metadata": {},
   "outputs": [
    {
     "ename": "AttributeError",
     "evalue": "module 'pandas' has no attribute 'to_json'",
     "output_type": "error",
     "traceback": [
      "\u001b[0;31m---------------------------------------------------------------------------\u001b[0m",
      "\u001b[0;31mAttributeError\u001b[0m                            Traceback (most recent call last)",
      "Cell \u001b[0;32mIn[26], line 2\u001b[0m\n\u001b[1;32m      1\u001b[0m \u001b[38;5;66;03m# Execute the test\u001b[39;00m\n\u001b[0;32m----> 2\u001b[0m \u001b[43mrun_test\u001b[49m\u001b[43m(\u001b[49m\u001b[43m)\u001b[49m\n",
      "Cell \u001b[0;32mIn[25], line 5\u001b[0m, in \u001b[0;36mrun_test\u001b[0;34m()\u001b[0m\n\u001b[1;32m      3\u001b[0m \u001b[38;5;28;01mfor\u001b[39;00m platform \u001b[38;5;129;01min\u001b[39;00m PLATFORMS:\n\u001b[1;32m      4\u001b[0m     \u001b[38;5;28;01mfor\u001b[39;00m _ \u001b[38;5;129;01min\u001b[39;00m \u001b[38;5;28mrange\u001b[39m(NUM_REQUESTS):\n\u001b[0;32m----> 5\u001b[0m         latency \u001b[38;5;241m=\u001b[39m \u001b[43missue_request\u001b[49m\u001b[43m(\u001b[49m\u001b[43mplatform\u001b[49m\u001b[43m)\u001b[49m\n\u001b[1;32m      6\u001b[0m         \u001b[38;5;28mprint\u001b[39m(\u001b[38;5;124mf\u001b[39m\u001b[38;5;124m'\u001b[39m\u001b[38;5;124mRequest to \u001b[39m\u001b[38;5;132;01m{\u001b[39;00mplatform\u001b[38;5;132;01m}\u001b[39;00m\u001b[38;5;124m took \u001b[39m\u001b[38;5;132;01m{\u001b[39;00mlatency\u001b[38;5;132;01m}\u001b[39;00m\u001b[38;5;124m seconds\u001b[39m\u001b[38;5;124m'\u001b[39m)\n",
      "Cell \u001b[0;32mIn[24], line 2\u001b[0m, in \u001b[0;36missue_request\u001b[0;34m(platform)\u001b[0m\n\u001b[1;32m      1\u001b[0m \u001b[38;5;28;01mdef\u001b[39;00m \u001b[38;5;21missue_request\u001b[39m(platform):\n\u001b[0;32m----> 2\u001b[0m     content \u001b[38;5;241m=\u001b[39m \u001b[43mgenerate_content\u001b[49m\u001b[43m(\u001b[49m\u001b[43mplatform\u001b[49m\u001b[43m)\u001b[49m\n\u001b[1;32m      3\u001b[0m     start_time \u001b[38;5;241m=\u001b[39m time\u001b[38;5;241m.\u001b[39mtime()\n\u001b[1;32m      4\u001b[0m     response \u001b[38;5;241m=\u001b[39m requests\u001b[38;5;241m.\u001b[39mpost(\u001b[38;5;124m'\u001b[39m\u001b[38;5;124m/rank\u001b[39m\u001b[38;5;124m'\u001b[39m, json\u001b[38;5;241m=\u001b[39m{\u001b[38;5;124m'\u001b[39m\u001b[38;5;124mcontent\u001b[39m\u001b[38;5;124m'\u001b[39m: content})\n",
      "Cell \u001b[0;32mIn[23], line 19\u001b[0m, in \u001b[0;36mgenerate_content\u001b[0;34m(platform)\u001b[0m\n\u001b[1;32m     16\u001b[0m     selected_indices\u001b[38;5;241m.\u001b[39mappend(next_row\u001b[38;5;241m.\u001b[39mname)\n\u001b[1;32m     17\u001b[0m     selected_rows[platform] \u001b[38;5;241m=\u001b[39m selected_indices\n\u001b[0;32m---> 19\u001b[0m \u001b[38;5;28;01mreturn\u001b[39;00m \u001b[43mpd\u001b[49m\u001b[38;5;241;43m.\u001b[39;49m\u001b[43mto_json\u001b[49m(next_row)\n",
      "File \u001b[0;32m/Library/Frameworks/Python.framework/Versions/3.8/lib/python3.8/site-packages/pandas/__init__.py:264\u001b[0m, in \u001b[0;36m__getattr__\u001b[0;34m(name)\u001b[0m\n\u001b[1;32m    260\u001b[0m     \u001b[38;5;28;01mfrom\u001b[39;00m \u001b[38;5;21;01mpandas\u001b[39;00m\u001b[38;5;21;01m.\u001b[39;00m\u001b[38;5;21;01mcore\u001b[39;00m\u001b[38;5;21;01m.\u001b[39;00m\u001b[38;5;21;01marrays\u001b[39;00m\u001b[38;5;21;01m.\u001b[39;00m\u001b[38;5;21;01msparse\u001b[39;00m \u001b[38;5;28;01mimport\u001b[39;00m SparseArray \u001b[38;5;28;01mas\u001b[39;00m _SparseArray\n\u001b[1;32m    262\u001b[0m     \u001b[38;5;28;01mreturn\u001b[39;00m _SparseArray\n\u001b[0;32m--> 264\u001b[0m \u001b[38;5;28;01mraise\u001b[39;00m \u001b[38;5;167;01mAttributeError\u001b[39;00m(\u001b[38;5;124mf\u001b[39m\u001b[38;5;124m\"\u001b[39m\u001b[38;5;124mmodule \u001b[39m\u001b[38;5;124m'\u001b[39m\u001b[38;5;124mpandas\u001b[39m\u001b[38;5;124m'\u001b[39m\u001b[38;5;124m has no attribute \u001b[39m\u001b[38;5;124m'\u001b[39m\u001b[38;5;132;01m{\u001b[39;00mname\u001b[38;5;132;01m}\u001b[39;00m\u001b[38;5;124m'\u001b[39m\u001b[38;5;124m\"\u001b[39m)\n",
      "\u001b[0;31mAttributeError\u001b[0m: module 'pandas' has no attribute 'to_json'"
     ]
    }
   ],
   "source": [
    "# Execute the test\n",
    "run_test()"
   ]
  },
  {
   "cell_type": "code",
   "execution_count": null,
   "metadata": {},
   "outputs": [],
   "source": []
  }
 ],
 "metadata": {
  "kernelspec": {
   "display_name": "Python 3",
   "language": "python",
   "name": "python3"
  },
  "language_info": {
   "codemirror_mode": {
    "name": "ipython",
    "version": 3
   },
   "file_extension": ".py",
   "mimetype": "text/x-python",
   "name": "python",
   "nbconvert_exporter": "python",
   "pygments_lexer": "ipython3",
   "version": "3.8.3"
  }
 },
 "nbformat": 4,
 "nbformat_minor": 2
}
