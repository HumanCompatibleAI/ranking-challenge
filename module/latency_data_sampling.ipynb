{
 "cells": [
  {
   "cell_type": "code",
   "execution_count": 1,
   "metadata": {},
   "outputs": [],
   "source": [
    "# Load in the data\n",
    "from io import StringIO\n",
    "import json\n",
    "import sys\n",
    "import os\n",
    "import subprocess\n",
    "\n",
    "import numpy as np\n",
    "import pandas as pd\n",
    "import requests\n"
   ]
  },
  {
   "cell_type": "markdown",
   "metadata": {},
   "source": [
    "We will sample 600 posts from each, and then print to demonstrate the JSON structure of each "
   ]
  },
  {
   "cell_type": "code",
   "execution_count": 89,
   "metadata": {},
   "outputs": [],
   "source": [
    "# Create directories if needed\n",
    "directories = [\n",
    "    'facebook_data/processed',\n",
    "    'reddit_data/processed',\n",
    "    'twitter_data/processed'\n",
    "]\n",
    "for directory in directories:\n",
    "    os.makedirs(directory, exist_ok=True)\n",
    "    \n",
    "current_directory = os.getcwd()\n",
    "path_to_add = os.path.abspath(os.path.join(current_directory, '..'))\n",
    "sys.path.append(path_to_add)\n",
    "\n",
    "from sample_data import preprocessing, data_pull\n",
    "\n",
    "target_file_path = os.path.abspath(os.path.join(current_directory, '..', '..', 'sample_data', 'preprocessing.py'))\n",
    "result = subprocess.run(['python', '../../sample_data/preprocessing.py'], capture_output=True, text=True)\n",
    "platforms = ['twitter', 'reddit', 'facebook']\n",
    "platform_data = []\n",
    "\n",
    "for platform in platforms:\n",
    "    \n",
    "    old_stdout = sys.stdout\n",
    "    result = StringIO()\n",
    "    sys.stdout = result\n",
    "\n",
    "    # Pull data and append to list\n",
    "    data_pull.random_user_feed_generator(platform, 600, 1, 'username')\n",
    "    sys.stdout = old_stdout\n",
    "    result_string = result.getvalue()\n",
    "    result = result_string.rstrip()\n",
    "    data = json.loads(result)\n",
    "    platform_data.append(data)\n",
    "\n",
    "twitter =  platform_data[0]\n",
    "reddit =  platform_data[1]\n",
    "facebook =  platform_data[2]"
   ]
  },
  {
   "cell_type": "code",
   "execution_count": 19,
   "metadata": {},
   "outputs": [
    {
     "name": "stdout",
     "output_type": "stream",
     "text": [
      "{'session': {'user_id': '1b5aa9237c15190aa1453b3f9f7d1068e1ac8d711b49ed8e36650db2dc23f9b2', 'user_name_hash': '16f78a7d6317f102bbd95fc9a4f3ff2e3249287690b8bdad6b7810f82b34ace3', 'cohort': 'XX', 'platform': 'twitter', 'current_time': '2024-05-23T13:25:06.938927'}, 'survey': None, 'items': [{'id': '99b71f1e35b51a6349b0adb823468033207084d50896e2a305d3ab1e8ec45e82', 'post_id': None, 'parent_id': 'c3da7c236c5fb8b30725a7f094b63c2267d32c8e8c7304865dd1c71836528886', 'title': None, 'text': 'RT @lovelydaylight_: en tan poco tiempo te convertiste en tanto', 'author_name_hash': 'de982ed63fef4b093fdf1c8bbf2c59d6ba079293204e28d774ad924ecb7aa63b', 'type': 'post', 'embedded_urls': [], 'created_at': '2023-01-01T23:59:40', 'engagements': {'retweet': 0, 'like': 0, 'comment': 0, 'share': 0}}, {'id': '910428677d3c49f85e11d2fce3d5e2204f42e82e3ead084b3b15fde5c6c50010', 'post_id': None, 'parent_id': 'eb0687d4a1d763e63ad80053cf928e201565b1c9c019ad2789e3d426619e928e', 'title': None, 'text': 'RT @nookker_ss: “วินเทอร์ที่ฉันรัก” แล้วชี้ไปที่น้องหนาว ชัดนะ https://t.co/jvfjx9E63s', 'author_name_hash': '5f02c79b42cb3adf4478e6a2b1717a13bba47a8e452c533a72c34639e63927a8', 'type': 'post', 'embedded_urls': ['https://twitter.com/nookker_ss/status/1609410457856790528/video/1'], 'created_at': '2023-01-01T05:29:50', 'engagements': {'retweet': 0, 'like': 1, 'comment': 1, 'share': 0}}]}\n",
      "{'session': {'user_id': '1b5aa9237c15190aa1453b3f9f7d1068e1ac8d711b49ed8e36650db2dc23f9b2', 'user_name_hash': '16f78a7d6317f102bbd95fc9a4f3ff2e3249287690b8bdad6b7810f82b34ace3', 'cohort': 'XX', 'platform': 'reddit', 'current_time': '2024-05-23T13:25:07.321423'}, 'survey': None, 'items': [{'id': 'cbb29b49f83846718e1cb7d850193f56e72dc03977d9de5e699889a6d3777537', 'post_id': 'f1f040d0cd5a168aa34e951ad43cde8b785a810b63288dd6d71f236c9bf782c6', 'parent_id': '99aac11715846f77b36f355219e63788ee9d803cd18de3e68b4238b6d03b8f2a', 'title': None, 'text': 'Okay sorry but how on *earth* did you get all the road lines like that? I am getting sick and tired of the giant white arrows and nothing else on all my roads.', 'author_name_hash': '0bacbf54bca633ead64a77b542d0647b333bedf2ea5bd09e134c1548a33e4a79', 'type': 'comment', 'embedded_urls': [], 'created_at': '1970-01-01T00:00:01', 'engagements': {'upvote': 21, 'downvote': 0, 'comment': 0, 'award': 0}}, {'id': '72e98a747c1bd1183697243d4107fa765514a2989603a096f8d0244d926db210', 'post_id': '', 'parent_id': '', 'title': 'How to Ace the off-campus interview .', 'text': 'Rn I am in my 3rd year .\\nAs I was getting many referrals from my friends and family and it will help me getting into the interview process .what things I have to keep in mind during the interview .\\nRn my I am getting strong on dsa\\nNo internships yet (  Not getting any mncs or good startup as college is tier 3 and companies are also not visiting , planning for applying further companies after October )\\nHas 2 projects (1 on python and 1 on web ).\\nAll suggestion are welcome', 'author_name_hash': '9a54d2023d5830670042a4ae36da99c4958d4fa4b32761798250228c2d402494', 'type': 'post', 'embedded_urls': [], 'created_at': '1970-01-01T00:00:01', 'engagements': {'upvote': 1, 'downvote': 0, 'comment': 0, 'award': 0}}]}\n",
      "{'session': {'user_id': '1b5aa9237c15190aa1453b3f9f7d1068e1ac8d711b49ed8e36650db2dc23f9b2', 'user_name_hash': '16f78a7d6317f102bbd95fc9a4f3ff2e3249287690b8bdad6b7810f82b34ace3', 'cohort': 'XX', 'platform': 'facebook', 'current_time': '2024-05-23T13:25:09.175893'}, 'survey': None, 'items': [{'id': '404230a62574537b5c0d451860ddb6f8e36714f1495b68bc131f2370b6e75366', 'post_id': '0db328349cf9a3fc9bbc30a87295c86c0347be99e084df2e91143a910c0c3245', 'parent_id': '', 'title': None, 'text': 'His military is so malnourished.', 'author_name_hash': 'b1935193f36ab89f9b1f000b41502a13856d693446dda3d8599f76b69edd4760', 'type': 'comment', 'embedded_urls': [], 'created_at': '2017-04-14T21:58:19', 'engagements': {'like': 0, 'love': 0, 'care': 0, 'haha': 0, 'wow': 0, 'sad': 0, 'angry': 0, 'comment': 0, 'share': 0}}, {'id': '1d0ce698ad19a06581ef63aace9d50744cec982745dbbca276d548b848142072', 'post_id': None, 'parent_id': '', 'title': None, 'text': 'MLB is speeding up games, but players may not want dramatic change to the sport they grew up loving as kids.', 'author_name_hash': '82147b26f5889b344717bf1922214790a9051ff139fe186873610c396af05203', 'type': 'post', 'embedded_urls': [], 'created_at': '2017-07-12T03:35:03', 'engagements': {'like': 1238, 'love': 29, 'care': 0, 'haha': 5, 'wow': 25, 'sad': 3, 'angry': 11, 'comment': 0, 'share': 22}}]}\n"
     ]
    }
   ],
   "source": [
    "print(twitter)\n",
    "print(reddit)\n",
    "print(facebook)"
   ]
  },
  {
   "cell_type": "markdown",
   "metadata": {},
   "source": [
    "With our 600 samples across each platform, we can define a function to sample ~50 posts. We will need to define an object to store our user and the posts that they have seen to ensure that they do not see the same posts over and over again, while ensuring that posts seen by one user do not affect whether the post is seen by another. We will define a class called 'user_history' to achieve this "
   ]
  },
  {
   "cell_type": "code",
   "execution_count": 138,
   "metadata": {},
   "outputs": [],
   "source": [
    "class user_history():\n",
    "    def __init__(self, feed,  history):\n",
    "        '''This class takes as inputs:\n",
    "        user - This is the individual for whom the feed is being generated. It is pulled from the feed\n",
    "        feed - These are the ~600 posts that our user is sampling from. It is pulled from the feed\n",
    "        history - This is a dictionary containing the existing history for all users, else if empty is instantiates an empty dictionary to hold history.'''\n",
    "        \n",
    "        self.user = feed['session']['user_id']\n",
    "        self.feed = feed['items']\n",
    "        self.history = history \n",
    "        \n",
    "    def update_history(self, sample):\n",
    "        for item in sample:\n",
    "            if item['id'] in self.history[self.user]:\n",
    "                self.history[self.user][item['id']] += 1\n",
    "            else:\n",
    "                self.history[self.user][item['id']] = 1\n",
    "        print(len(self.history[self.user]))\n",
    "                \n",
    "    def sample_feed(self, size=50):\n",
    "        first_use = True\n",
    "        if self.user in self.history.keys():\n",
    "            first_use = False\n",
    "            \n",
    "        if first_use == True:\n",
    "            self.history[self.user] = {}\n",
    "            sample = np.random.choice(self.feed, size=size,replace=False)\n",
    "            self.update_history(sample)\n",
    "        else:\n",
    "            \n",
    "            seen_ids = {item for item in self.history[self.user]}\n",
    "            seen_posts = [post for post in self.feed if post['id'] in seen_ids]\n",
    "            unseen_posts = [post for post in self.feed if post['id'] not in seen_ids]\n",
    "\n",
    "            repeat_posts = min(np.random.randint(5), len(seen_posts)) # This will be the number of repeat posts our users sees\n",
    "            new_posts = size - repeat_posts # This will be the number of new posts our users sees \n",
    "            \n",
    "            seen_sample = np.random.choice(list(seen_posts), size = repeat_posts, replace= False)\n",
    "            unseen_sample = np.random.choice(unseen_posts, size = new_posts, replace= False)\n",
    "            \n",
    "            # shuffles feed \n",
    "            sample = np.concatenate([seen_sample, unseen_sample])\n",
    "            np.random.shuffle(sample)\n",
    "            self.update_history(sample)\n",
    "\n",
    "        return sample   "
   ]
  },
  {
   "cell_type": "markdown",
   "metadata": {},
   "source": [
    "We can now test out our function by sampling posts once and then sampling again to test out repeat posts"
   ]
  },
  {
   "cell_type": "code",
   "execution_count": 139,
   "metadata": {},
   "outputs": [
    {
     "name": "stdout",
     "output_type": "stream",
     "text": [
      "50\n",
      "History after first sampling: {'1b5aa9237c15190aa1453b3f9f7d1068e1ac8d711b49ed8e36650db2dc23f9b2': {'a8486c1d417b6913cf64d405856cfe0eb05f3f432ba6d78817ba6fd6a4840968': 1, '0624b6e02ab54febc78e2586489fd4a05ec99bb32c935bfeb6b76574b558aca8': 1, '3394b07474bdc971833a34cc7d57730a2eedf36e78802a0fe98737be8774a4d5': 1, 'c18a16b8f31979a907e2f95de95d31e5d4260d1f515610560a296258768a6841': 1, '80f9a7c1a5d6e7a473c1f018003df8c07385b92a88985ae9789f8efdd4caa29b': 1, 'e832bafd6febb3bf3da30b9f2995388898e8c4a70d974bb693a4d483249900f7': 1, 'ad03ec6ace60847fb594ee9147e9497c0bbf506975d7878878b92ce8e29de778': 1, 'aa39d4a2474ec2a907b3da39e3690a0b460667fbe78051b14e3608ce2d8cf7d6': 1, '092e37cc95c1e4862e57aa08dcceea3d7b326da3246fea66e1b0dd12f149aae6': 1, 'ea4049b5ccbe90b444354d57c765de9bed24a21af26e9008b69898ba49d77707': 1, '547e9cfca8d86ea3ddb6c6ebb06813a6d16c7f834201605bd6e22e7f94bd468b': 1, '45041fee0a3823fef28062999d5cc9f08682cd3c44260ff50121872815088f9f': 1, '03240ef466f8ec9422b78181d08164d14c0752692ae90f4ff15c9da562db9161': 1, '5de9736c8b4cb9a0b387db3f4c59e148fc01b9911b8e602936b991438be79956': 1, 'a80e3ed33125790a9691bb797870decb22de8ed6c25681c5430cbae1aab7e2aa': 1, 'd2c29424e8848e59478f17f8459226112b7b8d75bc7205312db17fe7245ba5c0': 1, '44b8dc30990c2e29d40f9d90ee974cad12a728d2c58eb8fec12f8cb8314d7f4a': 1, '571d073131497cb4898ca8393b96537623b6338d5b9a1a9226feab233ab67de6': 1, 'd03369ad0b3ebdab85781f623adf19c1b4d8d98881084c818107867eaa81550c': 1, 'f18d94ee11eb2160369e4b2b58fff25866a85d53b1715e89d7990dd2947bb8b1': 1, 'fb5636aa25b2cbea57f2a635ca97a4ed62d0bb32314f049308382121cdd1e6f5': 1, '9c7fde0377fa34606c3ba23c8724b289ddb03d0c87af480795b4f75642f1ae44': 1, '351a11a13880c5330ca8c4943d6d2e6f77275e4650285719944207bb34225788': 1, 'c4bfd478acd1c4a721a5d50a3b6465ecb2cc0c7820d5c3163771e58917f403ee': 1, '5bedb62da5d5606ea1333eb0994e44dab1269ba8d5c876727e7bb81cf5e89bea': 1, '3dcc12f613c07cb6b25e2e2231d04e1a1f8ed84c6781ce3ed351c04510372445': 1, 'bcfaf52d6a363c05c0aa61e2240ef49ee9d9509e5424ccc9e07528d89c938112': 1, '40a6fffee7cda5b3fd8b7776a7872c8b7cc622d53f0f172c757eb148b690ceac': 1, 'ca3ffe0c693138b30ad4e8eeff972937f1ceb70d0c5070bd4f0a3453cc5cee8b': 1, 'f433e2925e8d8b7e478262d234e05605f1647e6adfe09165c72fcf937961fab1': 1, '92e4989069080c6aa7dad0eccbcca6128f990bab0349793b24536e73fb22333f': 1, '00f263cb2a594d393d311f632e10085668a371ff4f42b76a7f8b9ec355c30a0b': 1, '177577783ddfc40f90807874e021815306246ef50233f25a80ae166206bec533': 1, '0612516a6bfe5fb45979629288d24d6674aa05da303c31e89f6c4cd9d4386961': 1, '7d35d8486948b32404400357226aa6310313a3be9fd8554d47a037ee181ac1f4': 1, '298651f56c276ba46db1bcba860fbc9abd32411f4011499a47297e680e7fd3e7': 1, '0ac35e4c0d5ab5099254894c770c3444549b5c7e6701e76e8d366e655f5903d7': 1, 'a3f5f2ea566a31994c3be1bcb9ed7fdc79086f6a12c4bf53dcaeac7ea5625c27': 1, '93ec90d3c1fed7f127b9dc95720b1570dca02b390ae04e31f27d2a3cb2373cd4': 1, 'ab9e2f544bfe809714ee2f9e140eda763ad17a4060c1e5a6703f38aba6e0c7b1': 1, '64c76669ef5ef05869815a129b00ba44b709c7ed8f62b801b9d93216104b46bc': 1, '2deb009918ea7d5efe5ea22b2981ced256c9ea9d43c17d0752d684f3fef9ffdb': 1, 'c238a42afd1d4ff2b165ac60fa1963c1faeb04f8e901bf0e56bce12f10bead34': 1, 'c6a549d78112b2f90fc5c33d2821f63624ba25182c9af1c5830bb71adeff4f4a': 1, '1740612d591b99a061f9cbf513535064bbcaa825029ff47e33c8e65e883696a0': 1, 'a4bd8199dfbde38f1eb45bc884c5e84171efb3bd5cf140598719367a7792fd9d': 1, '37a5854521ea3ab65e200ed16c5714cca41d45ba4d72b80bd5b00a1dd743f135': 1, 'a84b138db9bc2466a92ab319fdcc2132214cc7c44ec3c0d4ae62dafa2434426f': 1, 'c192cfa3bb89d1eb8fa5af465bb75942ee18754b5e8adbe7c215e5238c671969': 1, '6789d1977140b08f19729c925e822f959d68577daa75e2e60f68c42ce0868690': 1}}\n",
      "99\n",
      "History after second sampling: {'1b5aa9237c15190aa1453b3f9f7d1068e1ac8d711b49ed8e36650db2dc23f9b2': {'a8486c1d417b6913cf64d405856cfe0eb05f3f432ba6d78817ba6fd6a4840968': 1, '0624b6e02ab54febc78e2586489fd4a05ec99bb32c935bfeb6b76574b558aca8': 1, '3394b07474bdc971833a34cc7d57730a2eedf36e78802a0fe98737be8774a4d5': 1, 'c18a16b8f31979a907e2f95de95d31e5d4260d1f515610560a296258768a6841': 1, '80f9a7c1a5d6e7a473c1f018003df8c07385b92a88985ae9789f8efdd4caa29b': 1, 'e832bafd6febb3bf3da30b9f2995388898e8c4a70d974bb693a4d483249900f7': 1, 'ad03ec6ace60847fb594ee9147e9497c0bbf506975d7878878b92ce8e29de778': 1, 'aa39d4a2474ec2a907b3da39e3690a0b460667fbe78051b14e3608ce2d8cf7d6': 1, '092e37cc95c1e4862e57aa08dcceea3d7b326da3246fea66e1b0dd12f149aae6': 1, 'ea4049b5ccbe90b444354d57c765de9bed24a21af26e9008b69898ba49d77707': 1, '547e9cfca8d86ea3ddb6c6ebb06813a6d16c7f834201605bd6e22e7f94bd468b': 1, '45041fee0a3823fef28062999d5cc9f08682cd3c44260ff50121872815088f9f': 1, '03240ef466f8ec9422b78181d08164d14c0752692ae90f4ff15c9da562db9161': 1, '5de9736c8b4cb9a0b387db3f4c59e148fc01b9911b8e602936b991438be79956': 1, 'a80e3ed33125790a9691bb797870decb22de8ed6c25681c5430cbae1aab7e2aa': 1, 'd2c29424e8848e59478f17f8459226112b7b8d75bc7205312db17fe7245ba5c0': 1, '44b8dc30990c2e29d40f9d90ee974cad12a728d2c58eb8fec12f8cb8314d7f4a': 1, '571d073131497cb4898ca8393b96537623b6338d5b9a1a9226feab233ab67de6': 1, 'd03369ad0b3ebdab85781f623adf19c1b4d8d98881084c818107867eaa81550c': 1, 'f18d94ee11eb2160369e4b2b58fff25866a85d53b1715e89d7990dd2947bb8b1': 1, 'fb5636aa25b2cbea57f2a635ca97a4ed62d0bb32314f049308382121cdd1e6f5': 1, '9c7fde0377fa34606c3ba23c8724b289ddb03d0c87af480795b4f75642f1ae44': 1, '351a11a13880c5330ca8c4943d6d2e6f77275e4650285719944207bb34225788': 1, 'c4bfd478acd1c4a721a5d50a3b6465ecb2cc0c7820d5c3163771e58917f403ee': 1, '5bedb62da5d5606ea1333eb0994e44dab1269ba8d5c876727e7bb81cf5e89bea': 1, '3dcc12f613c07cb6b25e2e2231d04e1a1f8ed84c6781ce3ed351c04510372445': 2, 'bcfaf52d6a363c05c0aa61e2240ef49ee9d9509e5424ccc9e07528d89c938112': 1, '40a6fffee7cda5b3fd8b7776a7872c8b7cc622d53f0f172c757eb148b690ceac': 1, 'ca3ffe0c693138b30ad4e8eeff972937f1ceb70d0c5070bd4f0a3453cc5cee8b': 1, 'f433e2925e8d8b7e478262d234e05605f1647e6adfe09165c72fcf937961fab1': 1, '92e4989069080c6aa7dad0eccbcca6128f990bab0349793b24536e73fb22333f': 1, '00f263cb2a594d393d311f632e10085668a371ff4f42b76a7f8b9ec355c30a0b': 1, '177577783ddfc40f90807874e021815306246ef50233f25a80ae166206bec533': 1, '0612516a6bfe5fb45979629288d24d6674aa05da303c31e89f6c4cd9d4386961': 1, '7d35d8486948b32404400357226aa6310313a3be9fd8554d47a037ee181ac1f4': 1, '298651f56c276ba46db1bcba860fbc9abd32411f4011499a47297e680e7fd3e7': 1, '0ac35e4c0d5ab5099254894c770c3444549b5c7e6701e76e8d366e655f5903d7': 1, 'a3f5f2ea566a31994c3be1bcb9ed7fdc79086f6a12c4bf53dcaeac7ea5625c27': 1, '93ec90d3c1fed7f127b9dc95720b1570dca02b390ae04e31f27d2a3cb2373cd4': 1, 'ab9e2f544bfe809714ee2f9e140eda763ad17a4060c1e5a6703f38aba6e0c7b1': 1, '64c76669ef5ef05869815a129b00ba44b709c7ed8f62b801b9d93216104b46bc': 1, '2deb009918ea7d5efe5ea22b2981ced256c9ea9d43c17d0752d684f3fef9ffdb': 1, 'c238a42afd1d4ff2b165ac60fa1963c1faeb04f8e901bf0e56bce12f10bead34': 1, 'c6a549d78112b2f90fc5c33d2821f63624ba25182c9af1c5830bb71adeff4f4a': 1, '1740612d591b99a061f9cbf513535064bbcaa825029ff47e33c8e65e883696a0': 1, 'a4bd8199dfbde38f1eb45bc884c5e84171efb3bd5cf140598719367a7792fd9d': 1, '37a5854521ea3ab65e200ed16c5714cca41d45ba4d72b80bd5b00a1dd743f135': 1, 'a84b138db9bc2466a92ab319fdcc2132214cc7c44ec3c0d4ae62dafa2434426f': 1, 'c192cfa3bb89d1eb8fa5af465bb75942ee18754b5e8adbe7c215e5238c671969': 1, '6789d1977140b08f19729c925e822f959d68577daa75e2e60f68c42ce0868690': 1, '895b880e61a2c0214c89dfc9cf5062e8f401c5d41db198c1ab3317d211f4dd18': 1, '0c71db54e9701f97ca4280d83c7fac22df52eb4d6b9a63c537e7c4652d8659bb': 1, '0b0d3c59c5bf92a6412bc08383db9bea561d6f6b06a3911db41ca380929648a3': 1, 'd3b27fa9c887aac672a5b617d32cb6af323f38df9a54b506846b88730dfe20b8': 1, '2b1b9c32546c20dfa3b4e45298f5dc0c813d51e2c22e211b5282277e1d075bd4': 1, 'bfaf1d2699943e96e254b5b0a8e8f8bd82125c9d2770819b12db6bc0b60f6855': 1, '0d2ec02e300341014157d999b197ec34757c93ffb668bcc1169f678ddf3f7324': 1, '4a8360d35f13afe99b9ad0fc0f40d5a15c64589d52f377f96e063e407c3bf816': 1, 'cc18091b63fcaa3227b62cf9850f41de6389e58298882f0a64b594101ddce33b': 1, '31e35f538552f4908f60668743c1035979e9f46cc3f07b5497173e5b24a44a09': 1, 'efd15cd3e94e97375c37de2328834bb932f09590e3162cb98203910ba283047e': 1, '68154c08a03f2d49e881d0092d89bf6e4150dfa295bce69ea9a869fc5fa274c5': 1, 'ab4f01291f5cb0db164edb673c7e098ffdb457688ba4a15e1ee1ce5b27a0a26c': 1, '12ad19597c5ee9d2c8d2830ef00e9b69a57bd802d0f9cf36f78269393dfbcf4a': 1, 'f549ad0512909dd3500306eacdbddbf6cf00064936ebf5e5f1f12ad3d7b48a70': 1, '16b368bd681bcb0b9d531e869c96500a3f6ea37f003cf49a10e08f4833289444': 1, 'ef7717296bd7e144f247323b29600485ba5b11d0ce06b6d4c0c5639ca389ee27': 1, 'ad4d33287e5bb567c382cd7b5629336292c914140f6fbfeebe940d1d279e97e9': 1, '6cf79abe69afeffb368f7f15e576e0d976ce04778ed858f553732d26e21f2141': 1, 'ad6517215a502efe0c2305448d87c69bf4437caab0d92e32d8d7296200e9f9f0': 1, '4ccb27670ae64b9355d2696623d5e22d04285204d1befbe6bce4b069036b5c44': 1, 'f899bcd59342b2282323580a5468e3f2cda110135c5f17873699eae0f801485b': 1, 'c5d485e82c1f5783bdde81c85b10361bb60ac4c82daf2c83d290c0d426637b16': 1, 'c2f57e880a4b3f91af4aea3910e2430c74c8a9c688b4de9663aa44fe99254971': 1, '0e0ca9916786a6bd42b7f385477235d5d3b394b94e15bc4645f1e5fabfa245c9': 1, '93cd13b0cd227709d76e90652d4b472c1ead261f8bd657df53f8749e9d98a564': 1, '49f1c260b752c6cfc6364836dc8893f4a794d3ba4f18fa6b70db06df4bff71f0': 1, 'db26f9f1477bc63add2d4420e97627b62a97d8724f52791993fee0e4105a930d': 1, '278a16bfc64b30afddfad1032bfb343b06011e93c5fb9a4d0fc27ca549e51dc0': 1, 'debc09bbe9715f15f66a159bfe6d9e6e70b46a497960aff661db43d7740820a4': 1, '83ee51bdc2de621903481b4fc3da1c29f8baa3bb1d78b24e712540e973bacd37': 1, 'e74a12431882cf13c6ba7b470042daed874abb0433d1611f1c8af8f140978613': 1, '010a52ceb1c5c4b27695377f8da54cfe257b594cc0b2f06a7e1076ac9d7a237e': 1, '83d06739534b2633228c97df1fa71f0d5faa805c1fa7aa1805a6b98b947fbfc6': 1, 'd2cac95e2f6b468b7985530fcf224134a2aed489cf56dadb37c9a76dc6a07da6': 1, 'b891f0ce9690c7597a07895204a08b72699d06089fd32599b1178a73ff145198': 1, '2049ae9b177ed1c6ec92ba289892b76873c62a04ad9e165300193254d232e12b': 1, '5de5288e3f1af2ff5013c5af64653f744716f9253b5fea976e274f1a0c877d5a': 1, '08f766d4760149e9ad9bf2403aa3ebf310243b56eeebfb6aecf327c24b5b1c25': 1, '4960aab5a360ef05d067c02b5bb217de0b0b368d31168ddded7474f282bed51c': 1, 'eb97b53ec281137c743eb6996a385755a1774e6e60a2d500694490ee74f82b33': 1, '6e4ce114f72991ea8d0a52203484261a7888ff7e821b69f542531565ca92e731': 1, 'aa80afaee9acfca11799fe70e3fe097f08553a776397fcafd7598cf64952ff71': 1, 'effb6dd2fd021764470ac61897c03de3b5404f61ab9633a3d38e419b5a3c12c5': 1, '5df5c2123b0aa3c942bd10c6f046c50d34b33d5245e91fd7a9fbfdb2cd99ed64': 1, 'd4b0fa1aa787178ffb14bfad2e57afe99c236576c29c4989b4af1da6bb465b04': 1, '4d652697f6ff5249a592391460c5f2a0d3334ada6be9373fdc018b163d53107d': 1, '3996f4df6322c4fe4776d4e9de9a971bddc25ec4d37a9e1908183a14d6a6e5ae': 1, 'f01615959bedc7e8038846cfc2240b695eb78b0751570196807c31becc6072d7': 1}}\n"
     ]
    }
   ],
   "source": [
    "history = {}\n",
    "user_feed = user_history(twitter, history)\n",
    "\n",
    "# Sample the feed\n",
    "sampled_posts = user_feed.sample_feed(50)\n",
    "print(\"History after first sampling:\", history)\n",
    "\n",
    "user_feed1 = user_history(twitter, history)\n",
    "sampled_posts1 = user_feed1.sample_feed(50)\n",
    "print(\"History after second sampling:\", history)\n"
   ]
  }
 ],
 "metadata": {
  "kernelspec": {
   "display_name": "mercy",
   "language": "python",
   "name": "python3"
  },
  "language_info": {
   "codemirror_mode": {
    "name": "ipython",
    "version": 3
   },
   "file_extension": ".py",
   "mimetype": "text/x-python",
   "name": "python",
   "nbconvert_exporter": "python",
   "pygments_lexer": "ipython3",
   "version": "3.9.18"
  }
 },
 "nbformat": 4,
 "nbformat_minor": 2
}
