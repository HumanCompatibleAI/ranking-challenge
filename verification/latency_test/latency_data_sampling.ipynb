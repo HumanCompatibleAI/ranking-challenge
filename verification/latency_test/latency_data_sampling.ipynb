{
 "cells": [
  {
   "cell_type": "code",
   "execution_count": 140,
   "metadata": {},
   "outputs": [],
   "source": [
    "# Load in the data\n",
    "from io import StringIO\n",
    "import json\n",
    "import sys\n",
    "import os\n",
    "import subprocess\n",
    "\n",
    "import numpy as np\n",
    "import pandas as pd\n",
    "import requests\n"
   ]
  },
  {
   "cell_type": "markdown",
   "metadata": {},
   "source": [
    "We will sample 2000 posts from each, and then print to demonstrate the JSON structure of each "
   ]
  },
  {
   "cell_type": "code",
   "execution_count": 142,
   "metadata": {},
   "outputs": [],
   "source": [
    "# Create directories if needed\n",
    "directories = [\n",
    "    'facebook_data/processed',\n",
    "    'reddit_data/processed',\n",
    "    'twitter_data/processed'\n",
    "]\n",
    "for directory in directories:\n",
    "    os.makedirs(directory, exist_ok=True)\n",
    "    \n",
    "current_directory = os.getcwd()\n",
    "path_to_add = os.path.abspath(os.path.join(current_directory, '..'))\n",
    "sys.path.append(path_to_add)\n",
    "\n",
    "from sample_data import preprocessing, data_pull\n",
    "\n",
    "target_file_path = os.path.abspath(os.path.join(current_directory, '..', '..', 'sample_data', 'preprocessing.py'))\n",
    "result = subprocess.run(['python', '../../sample_data/preprocessing.py'], capture_output=True, text=True)\n",
    "platforms = ['twitter', 'reddit', 'facebook']\n",
    "platform_data = []\n",
    "\n",
    "for platform in platforms:\n",
    "    \n",
    "    old_stdout = sys.stdout\n",
    "    result = StringIO()\n",
    "    sys.stdout = result\n",
    "\n",
    "    # Pull data and append to list\n",
    "    data_pull.random_user_feed_generator(platform, 2000, 1, 'username')\n",
    "    sys.stdout = old_stdout\n",
    "    result_string = result.getvalue()\n",
    "    result = result_string.rstrip()\n",
    "    data = json.loads(result)\n",
    "    platform_data.append(data)\n",
    "\n",
    "twitter =  platform_data[0]\n",
    "reddit =  platform_data[1]\n",
    "facebook =  platform_data[2]"
   ]
  },
  {
   "cell_type": "code",
   "execution_count": 19,
   "metadata": {},
   "outputs": [
    {
     "name": "stdout",
     "output_type": "stream",
     "text": [
      "{'session': {'user_id': '1b5aa9237c15190aa1453b3f9f7d1068e1ac8d711b49ed8e36650db2dc23f9b2', 'user_name_hash': '16f78a7d6317f102bbd95fc9a4f3ff2e3249287690b8bdad6b7810f82b34ace3', 'cohort': 'XX', 'platform': 'twitter', 'current_time': '2024-05-23T13:25:06.938927'}, 'survey': None, 'items': [{'id': '99b71f1e35b51a6349b0adb823468033207084d50896e2a305d3ab1e8ec45e82', 'post_id': None, 'parent_id': 'c3da7c236c5fb8b30725a7f094b63c2267d32c8e8c7304865dd1c71836528886', 'title': None, 'text': 'RT @lovelydaylight_: en tan poco tiempo te convertiste en tanto', 'author_name_hash': 'de982ed63fef4b093fdf1c8bbf2c59d6ba079293204e28d774ad924ecb7aa63b', 'type': 'post', 'embedded_urls': [], 'created_at': '2023-01-01T23:59:40', 'engagements': {'retweet': 0, 'like': 0, 'comment': 0, 'share': 0}}, {'id': '910428677d3c49f85e11d2fce3d5e2204f42e82e3ead084b3b15fde5c6c50010', 'post_id': None, 'parent_id': 'eb0687d4a1d763e63ad80053cf928e201565b1c9c019ad2789e3d426619e928e', 'title': None, 'text': 'RT @nookker_ss: “วินเทอร์ที่ฉันรัก” แล้วชี้ไปที่น้องหนาว ชัดนะ https://t.co/jvfjx9E63s', 'author_name_hash': '5f02c79b42cb3adf4478e6a2b1717a13bba47a8e452c533a72c34639e63927a8', 'type': 'post', 'embedded_urls': ['https://twitter.com/nookker_ss/status/1609410457856790528/video/1'], 'created_at': '2023-01-01T05:29:50', 'engagements': {'retweet': 0, 'like': 1, 'comment': 1, 'share': 0}}]}\n",
      "{'session': {'user_id': '1b5aa9237c15190aa1453b3f9f7d1068e1ac8d711b49ed8e36650db2dc23f9b2', 'user_name_hash': '16f78a7d6317f102bbd95fc9a4f3ff2e3249287690b8bdad6b7810f82b34ace3', 'cohort': 'XX', 'platform': 'reddit', 'current_time': '2024-05-23T13:25:07.321423'}, 'survey': None, 'items': [{'id': 'cbb29b49f83846718e1cb7d850193f56e72dc03977d9de5e699889a6d3777537', 'post_id': 'f1f040d0cd5a168aa34e951ad43cde8b785a810b63288dd6d71f236c9bf782c6', 'parent_id': '99aac11715846f77b36f355219e63788ee9d803cd18de3e68b4238b6d03b8f2a', 'title': None, 'text': 'Okay sorry but how on *earth* did you get all the road lines like that? I am getting sick and tired of the giant white arrows and nothing else on all my roads.', 'author_name_hash': '0bacbf54bca633ead64a77b542d0647b333bedf2ea5bd09e134c1548a33e4a79', 'type': 'comment', 'embedded_urls': [], 'created_at': '1970-01-01T00:00:01', 'engagements': {'upvote': 21, 'downvote': 0, 'comment': 0, 'award': 0}}, {'id': '72e98a747c1bd1183697243d4107fa765514a2989603a096f8d0244d926db210', 'post_id': '', 'parent_id': '', 'title': 'How to Ace the off-campus interview .', 'text': 'Rn I am in my 3rd year .\\nAs I was getting many referrals from my friends and family and it will help me getting into the interview process .what things I have to keep in mind during the interview .\\nRn my I am getting strong on dsa\\nNo internships yet (  Not getting any mncs or good startup as college is tier 3 and companies are also not visiting , planning for applying further companies after October )\\nHas 2 projects (1 on python and 1 on web ).\\nAll suggestion are welcome', 'author_name_hash': '9a54d2023d5830670042a4ae36da99c4958d4fa4b32761798250228c2d402494', 'type': 'post', 'embedded_urls': [], 'created_at': '1970-01-01T00:00:01', 'engagements': {'upvote': 1, 'downvote': 0, 'comment': 0, 'award': 0}}]}\n",
      "{'session': {'user_id': '1b5aa9237c15190aa1453b3f9f7d1068e1ac8d711b49ed8e36650db2dc23f9b2', 'user_name_hash': '16f78a7d6317f102bbd95fc9a4f3ff2e3249287690b8bdad6b7810f82b34ace3', 'cohort': 'XX', 'platform': 'facebook', 'current_time': '2024-05-23T13:25:09.175893'}, 'survey': None, 'items': [{'id': '404230a62574537b5c0d451860ddb6f8e36714f1495b68bc131f2370b6e75366', 'post_id': '0db328349cf9a3fc9bbc30a87295c86c0347be99e084df2e91143a910c0c3245', 'parent_id': '', 'title': None, 'text': 'His military is so malnourished.', 'author_name_hash': 'b1935193f36ab89f9b1f000b41502a13856d693446dda3d8599f76b69edd4760', 'type': 'comment', 'embedded_urls': [], 'created_at': '2017-04-14T21:58:19', 'engagements': {'like': 0, 'love': 0, 'care': 0, 'haha': 0, 'wow': 0, 'sad': 0, 'angry': 0, 'comment': 0, 'share': 0}}, {'id': '1d0ce698ad19a06581ef63aace9d50744cec982745dbbca276d548b848142072', 'post_id': None, 'parent_id': '', 'title': None, 'text': 'MLB is speeding up games, but players may not want dramatic change to the sport they grew up loving as kids.', 'author_name_hash': '82147b26f5889b344717bf1922214790a9051ff139fe186873610c396af05203', 'type': 'post', 'embedded_urls': [], 'created_at': '2017-07-12T03:35:03', 'engagements': {'like': 1238, 'love': 29, 'care': 0, 'haha': 5, 'wow': 25, 'sad': 3, 'angry': 11, 'comment': 0, 'share': 22}}]}\n"
     ]
    }
   ],
   "source": [
    "print(twitter)\n",
    "print(reddit)\n",
    "print(facebook)"
   ]
  },
  {
   "cell_type": "markdown",
   "metadata": {},
   "source": [
    "With our 600 samples across each platform, we can define a function to sample ~50 posts. We will need to define an object to store our user and the posts that they have seen to ensure that they do not see the same posts over and over again, while ensuring that posts seen by one user do not affect whether the post is seen by another. We will define a class called 'user_history' to achieve this "
   ]
  },
  {
   "cell_type": "code",
   "execution_count": 153,
   "metadata": {},
   "outputs": [],
   "source": [
    "class user_history():\n",
    "    def __init__(self, feed,  history):\n",
    "        '''This class takes as inputs:\n",
    "        user - This is the individual for whom the feed is being generated. It is pulled from the feed\n",
    "        feed - These are the ~600 posts that our user is sampling from. It is pulled from the feed\n",
    "        history - This is a dictionary containing the existing history for all users, else if empty is instantiates an empty dictionary to hold history.'''\n",
    "        \n",
    "        self.user = feed['session']['user_id']\n",
    "        self.feed = feed['items']\n",
    "        self.history = history \n",
    "        self.ranked_feed = []\n",
    "        \n",
    "    def update_history(self, sample):\n",
    "        print(sample)\n",
    "        for item in sample:\n",
    "            if item['id'] in self.history[self.user]:\n",
    "                self.history[self.user][item['id']] += 1\n",
    "            else:\n",
    "                self.history[self.user][item['id']] = 1\n",
    "                \n",
    "    def sample_feed(self, size=50):\n",
    "        first_use = True\n",
    "        if self.user in self.history.keys():\n",
    "            first_use = False\n",
    "            \n",
    "        if first_use == True:\n",
    "            self.history[self.user] = {}\n",
    "            sample = np.random.choice(self.feed, size=size,replace=False)\n",
    "            self.update_history(sample)\n",
    "        else:\n",
    "            \n",
    "            seen_ids = {item for item in self.history[self.user]}\n",
    "            seen_posts = [post for post in self.feed if post['id'] in seen_ids]\n",
    "            unseen_posts = [post for post in self.feed if post['id'] not in seen_ids]\n",
    "\n",
    "            repeat_posts = min(np.random.randint(5), len(seen_posts)) # This will be the number of repeat posts our users sees\n",
    "            # if len(repeat_posts) > len(unseen_posts):\n",
    "            new_posts = size - repeat_posts # This will be the number of new posts our users sees \n",
    "            if len(unseen_posts) < new_posts:\n",
    "                seen_sample = np.random.choice(list(seen_posts), size = repeat_posts, replace= False)\n",
    "                unseen_sample = np.random.choice(seen_posts, size = new_posts, replace= False)\n",
    "            else:\n",
    "                seen_sample = np.random.choice(list(seen_posts), size = repeat_posts, replace= False)\n",
    "                unseen_sample = np.random.choice(unseen_posts, size = new_posts, replace= False)\n",
    "            # shuffles feed \n",
    "            sample = np.concatenate([seen_sample, unseen_sample])\n",
    "            np.random.shuffle(sample)\n",
    "            self.update_history(sample)\n",
    "\n",
    "        return sample   \n",
    "\n",
    "    def run_ranker(self, sample_count = 600):\n",
    "        for i in range(sample_count):\n",
    "            self.sample_feed(size=50)\n",
    "            \n",
    "    def create_feed(self, history):\n",
    "        \n",
    "\n",
    "    # def write_to_json(self, platform, history):\n",
    "    #     file_path = f'{platform}_feed.json'\n",
    "    #     with open(file_path, 'w') as file:\n",
    "    #         json.dump(history, file, indent=4)"
   ]
  },
  {
   "cell_type": "markdown",
   "metadata": {},
   "source": [
    "We can now test out our function by sampling posts once and then sampling again to test out repeat posts"
   ]
  },
  {
   "cell_type": "code",
   "execution_count": 139,
   "metadata": {},
   "outputs": [
    {
     "name": "stdout",
     "output_type": "stream",
     "text": [
      "50\n",
      "History after first sampling: {'1b5aa9237c15190aa1453b3f9f7d1068e1ac8d711b49ed8e36650db2dc23f9b2': {'a8486c1d417b6913cf64d405856cfe0eb05f3f432ba6d78817ba6fd6a4840968': 1, '0624b6e02ab54febc78e2586489fd4a05ec99bb32c935bfeb6b76574b558aca8': 1, '3394b07474bdc971833a34cc7d57730a2eedf36e78802a0fe98737be8774a4d5': 1, 'c18a16b8f31979a907e2f95de95d31e5d4260d1f515610560a296258768a6841': 1, '80f9a7c1a5d6e7a473c1f018003df8c07385b92a88985ae9789f8efdd4caa29b': 1, 'e832bafd6febb3bf3da30b9f2995388898e8c4a70d974bb693a4d483249900f7': 1, 'ad03ec6ace60847fb594ee9147e9497c0bbf506975d7878878b92ce8e29de778': 1, 'aa39d4a2474ec2a907b3da39e3690a0b460667fbe78051b14e3608ce2d8cf7d6': 1, '092e37cc95c1e4862e57aa08dcceea3d7b326da3246fea66e1b0dd12f149aae6': 1, 'ea4049b5ccbe90b444354d57c765de9bed24a21af26e9008b69898ba49d77707': 1, '547e9cfca8d86ea3ddb6c6ebb06813a6d16c7f834201605bd6e22e7f94bd468b': 1, '45041fee0a3823fef28062999d5cc9f08682cd3c44260ff50121872815088f9f': 1, '03240ef466f8ec9422b78181d08164d14c0752692ae90f4ff15c9da562db9161': 1, '5de9736c8b4cb9a0b387db3f4c59e148fc01b9911b8e602936b991438be79956': 1, 'a80e3ed33125790a9691bb797870decb22de8ed6c25681c5430cbae1aab7e2aa': 1, 'd2c29424e8848e59478f17f8459226112b7b8d75bc7205312db17fe7245ba5c0': 1, '44b8dc30990c2e29d40f9d90ee974cad12a728d2c58eb8fec12f8cb8314d7f4a': 1, '571d073131497cb4898ca8393b96537623b6338d5b9a1a9226feab233ab67de6': 1, 'd03369ad0b3ebdab85781f623adf19c1b4d8d98881084c818107867eaa81550c': 1, 'f18d94ee11eb2160369e4b2b58fff25866a85d53b1715e89d7990dd2947bb8b1': 1, 'fb5636aa25b2cbea57f2a635ca97a4ed62d0bb32314f049308382121cdd1e6f5': 1, '9c7fde0377fa34606c3ba23c8724b289ddb03d0c87af480795b4f75642f1ae44': 1, '351a11a13880c5330ca8c4943d6d2e6f77275e4650285719944207bb34225788': 1, 'c4bfd478acd1c4a721a5d50a3b6465ecb2cc0c7820d5c3163771e58917f403ee': 1, '5bedb62da5d5606ea1333eb0994e44dab1269ba8d5c876727e7bb81cf5e89bea': 1, '3dcc12f613c07cb6b25e2e2231d04e1a1f8ed84c6781ce3ed351c04510372445': 1, 'bcfaf52d6a363c05c0aa61e2240ef49ee9d9509e5424ccc9e07528d89c938112': 1, '40a6fffee7cda5b3fd8b7776a7872c8b7cc622d53f0f172c757eb148b690ceac': 1, 'ca3ffe0c693138b30ad4e8eeff972937f1ceb70d0c5070bd4f0a3453cc5cee8b': 1, 'f433e2925e8d8b7e478262d234e05605f1647e6adfe09165c72fcf937961fab1': 1, '92e4989069080c6aa7dad0eccbcca6128f990bab0349793b24536e73fb22333f': 1, '00f263cb2a594d393d311f632e10085668a371ff4f42b76a7f8b9ec355c30a0b': 1, '177577783ddfc40f90807874e021815306246ef50233f25a80ae166206bec533': 1, '0612516a6bfe5fb45979629288d24d6674aa05da303c31e89f6c4cd9d4386961': 1, '7d35d8486948b32404400357226aa6310313a3be9fd8554d47a037ee181ac1f4': 1, '298651f56c276ba46db1bcba860fbc9abd32411f4011499a47297e680e7fd3e7': 1, '0ac35e4c0d5ab5099254894c770c3444549b5c7e6701e76e8d366e655f5903d7': 1, 'a3f5f2ea566a31994c3be1bcb9ed7fdc79086f6a12c4bf53dcaeac7ea5625c27': 1, '93ec90d3c1fed7f127b9dc95720b1570dca02b390ae04e31f27d2a3cb2373cd4': 1, 'ab9e2f544bfe809714ee2f9e140eda763ad17a4060c1e5a6703f38aba6e0c7b1': 1, '64c76669ef5ef05869815a129b00ba44b709c7ed8f62b801b9d93216104b46bc': 1, '2deb009918ea7d5efe5ea22b2981ced256c9ea9d43c17d0752d684f3fef9ffdb': 1, 'c238a42afd1d4ff2b165ac60fa1963c1faeb04f8e901bf0e56bce12f10bead34': 1, 'c6a549d78112b2f90fc5c33d2821f63624ba25182c9af1c5830bb71adeff4f4a': 1, '1740612d591b99a061f9cbf513535064bbcaa825029ff47e33c8e65e883696a0': 1, 'a4bd8199dfbde38f1eb45bc884c5e84171efb3bd5cf140598719367a7792fd9d': 1, '37a5854521ea3ab65e200ed16c5714cca41d45ba4d72b80bd5b00a1dd743f135': 1, 'a84b138db9bc2466a92ab319fdcc2132214cc7c44ec3c0d4ae62dafa2434426f': 1, 'c192cfa3bb89d1eb8fa5af465bb75942ee18754b5e8adbe7c215e5238c671969': 1, '6789d1977140b08f19729c925e822f959d68577daa75e2e60f68c42ce0868690': 1}}\n",
      "99\n",
      "History after second sampling: {'1b5aa9237c15190aa1453b3f9f7d1068e1ac8d711b49ed8e36650db2dc23f9b2': {'a8486c1d417b6913cf64d405856cfe0eb05f3f432ba6d78817ba6fd6a4840968': 1, '0624b6e02ab54febc78e2586489fd4a05ec99bb32c935bfeb6b76574b558aca8': 1, '3394b07474bdc971833a34cc7d57730a2eedf36e78802a0fe98737be8774a4d5': 1, 'c18a16b8f31979a907e2f95de95d31e5d4260d1f515610560a296258768a6841': 1, '80f9a7c1a5d6e7a473c1f018003df8c07385b92a88985ae9789f8efdd4caa29b': 1, 'e832bafd6febb3bf3da30b9f2995388898e8c4a70d974bb693a4d483249900f7': 1, 'ad03ec6ace60847fb594ee9147e9497c0bbf506975d7878878b92ce8e29de778': 1, 'aa39d4a2474ec2a907b3da39e3690a0b460667fbe78051b14e3608ce2d8cf7d6': 1, '092e37cc95c1e4862e57aa08dcceea3d7b326da3246fea66e1b0dd12f149aae6': 1, 'ea4049b5ccbe90b444354d57c765de9bed24a21af26e9008b69898ba49d77707': 1, '547e9cfca8d86ea3ddb6c6ebb06813a6d16c7f834201605bd6e22e7f94bd468b': 1, '45041fee0a3823fef28062999d5cc9f08682cd3c44260ff50121872815088f9f': 1, '03240ef466f8ec9422b78181d08164d14c0752692ae90f4ff15c9da562db9161': 1, '5de9736c8b4cb9a0b387db3f4c59e148fc01b9911b8e602936b991438be79956': 1, 'a80e3ed33125790a9691bb797870decb22de8ed6c25681c5430cbae1aab7e2aa': 1, 'd2c29424e8848e59478f17f8459226112b7b8d75bc7205312db17fe7245ba5c0': 1, '44b8dc30990c2e29d40f9d90ee974cad12a728d2c58eb8fec12f8cb8314d7f4a': 1, '571d073131497cb4898ca8393b96537623b6338d5b9a1a9226feab233ab67de6': 1, 'd03369ad0b3ebdab85781f623adf19c1b4d8d98881084c818107867eaa81550c': 1, 'f18d94ee11eb2160369e4b2b58fff25866a85d53b1715e89d7990dd2947bb8b1': 1, 'fb5636aa25b2cbea57f2a635ca97a4ed62d0bb32314f049308382121cdd1e6f5': 1, '9c7fde0377fa34606c3ba23c8724b289ddb03d0c87af480795b4f75642f1ae44': 1, '351a11a13880c5330ca8c4943d6d2e6f77275e4650285719944207bb34225788': 1, 'c4bfd478acd1c4a721a5d50a3b6465ecb2cc0c7820d5c3163771e58917f403ee': 1, '5bedb62da5d5606ea1333eb0994e44dab1269ba8d5c876727e7bb81cf5e89bea': 1, '3dcc12f613c07cb6b25e2e2231d04e1a1f8ed84c6781ce3ed351c04510372445': 2, 'bcfaf52d6a363c05c0aa61e2240ef49ee9d9509e5424ccc9e07528d89c938112': 1, '40a6fffee7cda5b3fd8b7776a7872c8b7cc622d53f0f172c757eb148b690ceac': 1, 'ca3ffe0c693138b30ad4e8eeff972937f1ceb70d0c5070bd4f0a3453cc5cee8b': 1, 'f433e2925e8d8b7e478262d234e05605f1647e6adfe09165c72fcf937961fab1': 1, '92e4989069080c6aa7dad0eccbcca6128f990bab0349793b24536e73fb22333f': 1, '00f263cb2a594d393d311f632e10085668a371ff4f42b76a7f8b9ec355c30a0b': 1, '177577783ddfc40f90807874e021815306246ef50233f25a80ae166206bec533': 1, '0612516a6bfe5fb45979629288d24d6674aa05da303c31e89f6c4cd9d4386961': 1, '7d35d8486948b32404400357226aa6310313a3be9fd8554d47a037ee181ac1f4': 1, '298651f56c276ba46db1bcba860fbc9abd32411f4011499a47297e680e7fd3e7': 1, '0ac35e4c0d5ab5099254894c770c3444549b5c7e6701e76e8d366e655f5903d7': 1, 'a3f5f2ea566a31994c3be1bcb9ed7fdc79086f6a12c4bf53dcaeac7ea5625c27': 1, '93ec90d3c1fed7f127b9dc95720b1570dca02b390ae04e31f27d2a3cb2373cd4': 1, 'ab9e2f544bfe809714ee2f9e140eda763ad17a4060c1e5a6703f38aba6e0c7b1': 1, '64c76669ef5ef05869815a129b00ba44b709c7ed8f62b801b9d93216104b46bc': 1, '2deb009918ea7d5efe5ea22b2981ced256c9ea9d43c17d0752d684f3fef9ffdb': 1, 'c238a42afd1d4ff2b165ac60fa1963c1faeb04f8e901bf0e56bce12f10bead34': 1, 'c6a549d78112b2f90fc5c33d2821f63624ba25182c9af1c5830bb71adeff4f4a': 1, '1740612d591b99a061f9cbf513535064bbcaa825029ff47e33c8e65e883696a0': 1, 'a4bd8199dfbde38f1eb45bc884c5e84171efb3bd5cf140598719367a7792fd9d': 1, '37a5854521ea3ab65e200ed16c5714cca41d45ba4d72b80bd5b00a1dd743f135': 1, 'a84b138db9bc2466a92ab319fdcc2132214cc7c44ec3c0d4ae62dafa2434426f': 1, 'c192cfa3bb89d1eb8fa5af465bb75942ee18754b5e8adbe7c215e5238c671969': 1, '6789d1977140b08f19729c925e822f959d68577daa75e2e60f68c42ce0868690': 1, '895b880e61a2c0214c89dfc9cf5062e8f401c5d41db198c1ab3317d211f4dd18': 1, '0c71db54e9701f97ca4280d83c7fac22df52eb4d6b9a63c537e7c4652d8659bb': 1, '0b0d3c59c5bf92a6412bc08383db9bea561d6f6b06a3911db41ca380929648a3': 1, 'd3b27fa9c887aac672a5b617d32cb6af323f38df9a54b506846b88730dfe20b8': 1, '2b1b9c32546c20dfa3b4e45298f5dc0c813d51e2c22e211b5282277e1d075bd4': 1, 'bfaf1d2699943e96e254b5b0a8e8f8bd82125c9d2770819b12db6bc0b60f6855': 1, '0d2ec02e300341014157d999b197ec34757c93ffb668bcc1169f678ddf3f7324': 1, '4a8360d35f13afe99b9ad0fc0f40d5a15c64589d52f377f96e063e407c3bf816': 1, 'cc18091b63fcaa3227b62cf9850f41de6389e58298882f0a64b594101ddce33b': 1, '31e35f538552f4908f60668743c1035979e9f46cc3f07b5497173e5b24a44a09': 1, 'efd15cd3e94e97375c37de2328834bb932f09590e3162cb98203910ba283047e': 1, '68154c08a03f2d49e881d0092d89bf6e4150dfa295bce69ea9a869fc5fa274c5': 1, 'ab4f01291f5cb0db164edb673c7e098ffdb457688ba4a15e1ee1ce5b27a0a26c': 1, '12ad19597c5ee9d2c8d2830ef00e9b69a57bd802d0f9cf36f78269393dfbcf4a': 1, 'f549ad0512909dd3500306eacdbddbf6cf00064936ebf5e5f1f12ad3d7b48a70': 1, '16b368bd681bcb0b9d531e869c96500a3f6ea37f003cf49a10e08f4833289444': 1, 'ef7717296bd7e144f247323b29600485ba5b11d0ce06b6d4c0c5639ca389ee27': 1, 'ad4d33287e5bb567c382cd7b5629336292c914140f6fbfeebe940d1d279e97e9': 1, '6cf79abe69afeffb368f7f15e576e0d976ce04778ed858f553732d26e21f2141': 1, 'ad6517215a502efe0c2305448d87c69bf4437caab0d92e32d8d7296200e9f9f0': 1, '4ccb27670ae64b9355d2696623d5e22d04285204d1befbe6bce4b069036b5c44': 1, 'f899bcd59342b2282323580a5468e3f2cda110135c5f17873699eae0f801485b': 1, 'c5d485e82c1f5783bdde81c85b10361bb60ac4c82daf2c83d290c0d426637b16': 1, 'c2f57e880a4b3f91af4aea3910e2430c74c8a9c688b4de9663aa44fe99254971': 1, '0e0ca9916786a6bd42b7f385477235d5d3b394b94e15bc4645f1e5fabfa245c9': 1, '93cd13b0cd227709d76e90652d4b472c1ead261f8bd657df53f8749e9d98a564': 1, '49f1c260b752c6cfc6364836dc8893f4a794d3ba4f18fa6b70db06df4bff71f0': 1, 'db26f9f1477bc63add2d4420e97627b62a97d8724f52791993fee0e4105a930d': 1, '278a16bfc64b30afddfad1032bfb343b06011e93c5fb9a4d0fc27ca549e51dc0': 1, 'debc09bbe9715f15f66a159bfe6d9e6e70b46a497960aff661db43d7740820a4': 1, '83ee51bdc2de621903481b4fc3da1c29f8baa3bb1d78b24e712540e973bacd37': 1, 'e74a12431882cf13c6ba7b470042daed874abb0433d1611f1c8af8f140978613': 1, '010a52ceb1c5c4b27695377f8da54cfe257b594cc0b2f06a7e1076ac9d7a237e': 1, '83d06739534b2633228c97df1fa71f0d5faa805c1fa7aa1805a6b98b947fbfc6': 1, 'd2cac95e2f6b468b7985530fcf224134a2aed489cf56dadb37c9a76dc6a07da6': 1, 'b891f0ce9690c7597a07895204a08b72699d06089fd32599b1178a73ff145198': 1, '2049ae9b177ed1c6ec92ba289892b76873c62a04ad9e165300193254d232e12b': 1, '5de5288e3f1af2ff5013c5af64653f744716f9253b5fea976e274f1a0c877d5a': 1, '08f766d4760149e9ad9bf2403aa3ebf310243b56eeebfb6aecf327c24b5b1c25': 1, '4960aab5a360ef05d067c02b5bb217de0b0b368d31168ddded7474f282bed51c': 1, 'eb97b53ec281137c743eb6996a385755a1774e6e60a2d500694490ee74f82b33': 1, '6e4ce114f72991ea8d0a52203484261a7888ff7e821b69f542531565ca92e731': 1, 'aa80afaee9acfca11799fe70e3fe097f08553a776397fcafd7598cf64952ff71': 1, 'effb6dd2fd021764470ac61897c03de3b5404f61ab9633a3d38e419b5a3c12c5': 1, '5df5c2123b0aa3c942bd10c6f046c50d34b33d5245e91fd7a9fbfdb2cd99ed64': 1, 'd4b0fa1aa787178ffb14bfad2e57afe99c236576c29c4989b4af1da6bb465b04': 1, '4d652697f6ff5249a592391460c5f2a0d3334ada6be9373fdc018b163d53107d': 1, '3996f4df6322c4fe4776d4e9de9a971bddc25ec4d37a9e1908183a14d6a6e5ae': 1, 'f01615959bedc7e8038846cfc2240b695eb78b0751570196807c31becc6072d7': 1}}\n"
     ]
    }
   ],
   "source": [
    "history = {}\n",
    "user_feed = user_history(twitter, history)\n",
    "\n",
    "# Sample the feed\n",
    "sampled_posts = user_feed.sample_feed(50)\n",
    "print(\"History after first sampling:\", history)\n",
    "\n",
    "user_feed1 = user_history(twitter, history)\n",
    "sampled_posts1 = user_feed1.sample_feed(50)\n",
    "print(\"History after second sampling:\", history)"
   ]
  },
  {
   "cell_type": "code",
   "execution_count": 154,
   "metadata": {},
   "outputs": [
    {
     "name": "stdout",
     "output_type": "stream",
     "text": [
      "[{'id': '847edee19cf07408c79b00d080d4ff6988e6528aa235c9c23563f034479e3b8b', 'post_id': None, 'parent_id': 'ddece7c7b9579b7d164f29c1008b8c021fc0287cbfb161ac662a94f381cdd2a5', 'title': None, 'text': 'RT @almlki__1: @nwrlhd1 سلمتي', 'author_name_hash': '5661a56dda77fba413870828463abfd30d16ef6c5debecf09f33167279c687de', 'type': 'post', 'embedded_urls': [], 'created_at': '2023-01-01T10:49:23', 'engagements': {'retweet': 4, 'like': 8, 'comment': 2, 'share': 0}}\n",
      " {'id': 'bac8b9babc11bb64d274881df28b135615bdc003d1176a6b066d4489bcea1bc8', 'post_id': None, 'parent_id': '263e813b60f59867904c422e54b9c6d49649917060793943de362c6726d17d37', 'title': None, 'text': 'RT @ThalapathyFilms: Biggest Pongal Winner #Varisu Not only in Tamil Telugu North also💥🥳This pongal is Ours💥😍 - #DilRaju https://t.co/YamPP…', 'author_name_hash': 'bf2e8b510e9e1fb00d596634037113931114347ee83be84ab4545e6a7ed53abe', 'type': 'post', 'embedded_urls': [], 'created_at': '2023-01-01T15:46:46', 'engagements': {'retweet': 1, 'like': 0, 'comment': 0, 'share': 0}}\n",
      " {'id': 'a7dcf0714e2897ae2e9039e98a0b69fe827b0ed50059f467c25a798121c68e39', 'post_id': None, 'parent_id': None, 'title': None, 'text': 'RT @follow_2PMJP: ☆2023 Happy New Year from 2PM☆\\n\\n2022年もたくさんの応援、誠にありがとうございました♪\\n2023年も2PMの応援のほど、よろしくお願い申し上げます！！\\n\\nhttps://t.co/OVfBTHGqtg\\nhtt…', 'author_name_hash': 'da90c5f3e5e319cb35da00e0ef586096719c7edf2d931f327fd7da3eb1c33219', 'type': 'post', 'embedded_urls': ['https://www.hottestjapan.com/'], 'created_at': '2023-01-01T05:29:19', 'engagements': {'retweet': 1, 'like': 0, 'comment': 0, 'share': 0}}\n",
      " {'id': '41aad18bcd153e23454cb11131e279bd6704d60a398cc36c2365413ff69084d5', 'post_id': None, 'parent_id': 'd7b3f74921b518fad783eb91867cf790831f89968c6fc49da6c31b5842cf9efd', 'title': None, 'text': 'RT @epi_ktdk: ひらーか女子の中で一番好き https://t.co/gHkmaoeBS5', 'author_name_hash': '225272a5a32aac6797377fd35df0b105cd4d813ac644fed4954f9843d8b14539', 'type': 'post', 'embedded_urls': ['https://twitter.com/epi_ktdk/status/1609502932919291910/photo/1'], 'created_at': '2023-01-01T23:59:49', 'engagements': {'retweet': 0, 'like': 0, 'comment': 0, 'share': 0}}\n",
      " {'id': 'd34b0962b966854f9ea2dd394c06a9416ea4dc6c1a5d93aa252d8281a245e4cb', 'post_id': None, 'parent_id': '8853f4a50219fca4aaa6b524bc1cb8162aab6f15f3708217991b196741e2d15f', 'title': None, 'text': 'RT @ujiminphoria: Karina jamming to Red Flavor by Red Velvet remix version😭 https://t.co/AyMYQJW6yx', 'author_name_hash': '1a0e2054598842494e20cbd3c109166bd2f07f1e4d7a45ededf0583f73128943', 'type': 'post', 'embedded_urls': ['https://twitter.com/ujiminphoria/status/1609467551502962690/video/1'], 'created_at': '2023-01-01T10:49:55', 'engagements': {'retweet': 2, 'like': 7, 'comment': 2, 'share': 0}}\n",
      " {'id': '55171ef73439dcbfcb989c71c174941d9ac887b7d399b8ade398d97db51573a5', 'post_id': None, 'parent_id': 'e6cf34576d3859056ed221ec9c196278c4d4e8aadb928187449cf7c2bd643e1a', 'title': None, 'text': '入りが恋愛観だからそりゃリアコになるよねー仕方ない仕方ない', 'author_name_hash': '384a910d15616754671c250c0cd2f5d73eb6c10e3216af67cbd91ee56fee7782', 'type': 'post', 'embedded_urls': [], 'created_at': '2023-01-01T01:01:53', 'engagements': {'retweet': 0, 'like': 0, 'comment': 0, 'share': 0}}\n",
      " {'id': '4960aab5a360ef05d067c02b5bb217de0b0b368d31168ddded7474f282bed51c', 'post_id': None, 'parent_id': 'c3a176bb0bafe8686a4f0e5567a6d7f9c6b124381222a81d6fb0ac20cc59befd', 'title': None, 'text': \"RT @BT21_: BT21 rabbits on the moon?!🌕\\n\\n2023 The Year of Rabbit has come🐰🥕\\nWe've prepared the cutest video only for UNISTARS!\\n\\nHappy Rabbit…\", 'author_name_hash': '443b84debf051684801cc2548c585447a3d1a4f95ceee591ba59d727033dfebf', 'type': 'post', 'embedded_urls': [], 'created_at': '2023-01-01T10:49:53', 'engagements': {'retweet': 2, 'like': 0, 'comment': 0, 'share': 0}}\n",
      " {'id': '73a7ad0cbbcfb71db6f8169d4bd4fa6ce383cd2275dc50f1382aaee4f5c0b938', 'post_id': None, 'parent_id': None, 'title': None, 'text': 'Worse never things, what matters https://t.co/BzvZld74eU', 'author_name_hash': '5de9d90cc1682012dc31aed4822c4eae5705259ff28953494c901fd5ea4cd4ae', 'type': 'post', 'embedded_urls': ['https://twitter.com/RoyBolt93185241/status/1609576825503764482'], 'created_at': '2023-01-01T15:46:35', 'engagements': {'retweet': 0, 'like': 1, 'comment': 0, 'share': 0}}\n",
      " {'id': '25bba827c715b915ad09f4340ae037ef2949acb92a1ad55924eba45957a4ce84', 'post_id': None, 'parent_id': '5f1f79334c4bf4ce00f4927f3c7209fb2b2d552f98381c7f47cc1c5d136016da', 'title': None, 'text': '𝟐𝟎𝟐𝟑.𝟏.𝟏 https://t.co/hZiQDPPLwT', 'author_name_hash': '542c41fb97bde20d8a65f4d47199897c3fb4688cb7ee784450b0351a81d09190', 'type': 'post', 'embedded_urls': ['https://twitter.com/rasha558/status/1609502017210441729/photo/1'], 'created_at': '2023-01-01T10:49:18', 'engagements': {'retweet': 2, 'like': 3, 'comment': 1, 'share': 0}}\n",
      " {'id': '2b54870a0b4e50124a016750e9f564be437e7dede704780d486d0e5e06cb918a', 'post_id': None, 'parent_id': None, 'title': None, 'text': 'Hahahahahaha fuck Michigan. Max Duggan is a dawg. TCU secondary MVP', 'author_name_hash': '7fee8a0d134c858ef5b2fad6de4aa5c6727e06e782558383f529c4e7e0723847', 'type': 'post', 'embedded_urls': [], 'created_at': '2023-01-01T01:01:11', 'engagements': {'retweet': 7, 'like': 8, 'comment': 1, 'share': 0}}\n",
      " {'id': '4f567c002b76bea315cbd08961ebf8adf86e01e05a508e77915758a6252ced66', 'post_id': None, 'parent_id': 'ab2c6d4f0298239da764a2e50339eeee93a125a05b92ec80d145aa298b8e6191', 'title': None, 'text': 'RT @puercochi2: Les gusta la maestra, si le das RT te paso video completo https://t.co/9mmtKLbbH0', 'author_name_hash': '9fde706f199959e2ace005061edfb15b13cd3da59e90b891098c7bb71dd3c75c', 'type': 'post', 'embedded_urls': ['https://twitter.com/puercochi2/status/1609372566057062405/video/1'], 'created_at': '2023-01-01T05:29:58', 'engagements': {'retweet': 0, 'like': 1, 'comment': 0, 'share': 0}}\n",
      " {'id': '597a9829ad214d26cb251e17f288c9b154c68517a6961df789a80eb89a78c49a', 'post_id': None, 'parent_id': '02fb7e49470a732a3e20e634898bbe7e1141deb8840a8e6b89d559ae3f84d25e', 'title': None, 'text': '@lapin7303 ちゃんさんｯ✨こんばんは🌉\\n\\nあけましておめでとうございます🌅⛩✨\\nみんなでなんかハッピー❣️への共感、嬉しいです(๑&gt;ᴗ&lt;๑) \\n本当にそうなる年でありますように🥰\\n\\n私も昨年はちゃんさんとちい活出来て楽しかったです🤗\\n今年もお会い出来ますように😍✨\\n\\nこちらこそ今年もよろしくお願いします〜☺️🍀', 'author_name_hash': '870d101e3c8b846085578a448ad6df780a5a9e9c18cab0e1f08e4c344f13ef07', 'type': 'post', 'embedded_urls': [], 'created_at': '2023-01-01T10:49:17', 'engagements': {'retweet': 2, 'like': 8, 'comment': 1, 'share': 0}}\n",
      " {'id': 'c1624c91fa2874c74ae88b30da66fb4370cd0b483c89a2413c667241689026a7', 'post_id': None, 'parent_id': None, 'title': None, 'text': 'RT @swathialapati18: సభకు 30 మందిని తీసుకొచ్చా .. కాళ్లు ఇరగొట్టి తలకాయలు పగలకొట్టి ఇలానా కానుకలు ఇచ్చేది .. మేము ఏమైనా ఇమ్మన్నామా .. : టీ…', 'author_name_hash': '925441e3364374899bac14c1cbaeb402afa9cc8c683fcf192ef5e0a08863e80a', 'type': 'post', 'embedded_urls': [], 'created_at': '2023-01-01T15:46:31', 'engagements': {'retweet': 16, 'like': 33, 'comment': 3, 'share': 0}}\n",
      " {'id': '74f290fc3f3ee6504b3b4a363e31e5721168ea75107325db4ca9f37532cfd030', 'post_id': None, 'parent_id': None, 'title': None, 'text': 'RT @jorgefrenp: Aquí pensando en voz alta:\\n\\nGustavo Bolívar dice que como Senador está quebrado, que con el servicio público se ve alcanzad…', 'author_name_hash': '2d693a9e582f2b2c139efa9a4c670db5a4b192474fd06373abb4224f4e2f6601', 'type': 'post', 'embedded_urls': [], 'created_at': '2023-01-01T23:59:23', 'engagements': {'retweet': 19, 'like': 39, 'comment': 4, 'share': 0}}\n",
      " {'id': '87113e6c7c6cb0c6ee8645baa02053f73874b5f7a65b0313d3edf6455ad5332c', 'post_id': None, 'parent_id': None, 'title': None, 'text': '@ApacheZombie @BornAKang Wat!!', 'author_name_hash': '44861a694f6019d86899668ed394424d515e9113b34199285412717b12df0b0c', 'type': 'post', 'embedded_urls': [], 'created_at': '2023-01-01T05:29:40', 'engagements': {'retweet': 0, 'like': 0, 'comment': 0, 'share': 0}}\n",
      " {'id': '3bae3d2a8719365c8c3ffc7e11943099f8eddc945b5c9a676547841d0bd98126', 'post_id': None, 'parent_id': '03443060c7a98f0fcd7c03bdac19c0c885f7b96a0044f7af52dfb6001bfa3594', 'title': None, 'text': 'RT @FatKidDeals: Go Blue\\n\\nGo Home\\n\\nhttps://t.co/q6mveEWfL7 https://t.co/ZRMrhBjBCB', 'author_name_hash': 'b171a16f9b5acc19bd947626a00b49c8ae75095ae1af0781ab7490bdd4771efc', 'type': 'post', 'embedded_urls': ['https://fkd.sale/?l=https://amzn.to/3Q3qUWs'], 'created_at': '2023-01-01T01:01:39', 'engagements': {'retweet': 3, 'like': 4, 'comment': 0, 'share': 0}}\n",
      " {'id': '5485caa5cb35a746e64f5c0e1d4fbe4a50c8bef270794e330b84ff1601a914f8', 'post_id': None, 'parent_id': 'a0c3250345b4032f62a7936431d94dc110b5af944d158d7283c66db74e30adaf', 'title': None, 'text': '元旦の新年早々、やっぱり売れてるのは福袋。毎年こちらはハズレがないので、良いかも。\\n\\nhttps://t.co/SygxsUA2EN\\n\\n楽天超ポイントバック祭開催中なので、さらに高還元で購入できますね！', 'author_name_hash': '9952fff5d5865883020418e5eb7ed00ff2b8638fdad91e389ea90bfc7616f70f', 'type': 'post', 'embedded_urls': ['https://a.r10.to/h6OTSW'], 'created_at': '2023-01-01T05:29:28', 'engagements': {'retweet': 7, 'like': 15, 'comment': 2, 'share': 0}}\n",
      " {'id': '5a8b17fa114c7c92dd2f9691e35d14851718083a081cfe2180357c02f3dd34b4', 'post_id': None, 'parent_id': '8e049a9afca43040b536d7929d12e80649ef38af97e6f7ce9806d94e67740aa6', 'title': None, 'text': 'あったあった‼️\\nあの頃はよかったな🤩🤩🤩🤩\\n今と比べると、全てがおおらかだったように思います。\\n人間も社会も世界も性悪になったな\\n\\U0001f979\\U0001f979\\U0001f979\\U0001f979\\U0001f979 https://t.co/eL50eQ7aQ4', 'author_name_hash': 'bfbb143ed3ea0c22240947c069d7f1f6b5d45f22cdeae78cdcfc838fedc92f66', 'type': 'post', 'embedded_urls': ['https://twitter.com/kusatta_www/status/1609408843540320257'], 'created_at': '2023-01-01T05:29:37', 'engagements': {'retweet': 2, 'like': 1, 'comment': 1, 'share': 0}}\n",
      " {'id': 'f4cdf8677a641dbb331a40bbc8325fe751707a786bd7db65922ce9425e642027', 'post_id': None, 'parent_id': 'a8060bc18ae744b623c1e76cadfd25431bb1cae8e129bb278931a497e64902eb', 'title': None, 'text': 'RT @aRd1an_22: Tuve ese sueño de nuevo https://t.co/xxBLC6mLwl', 'author_name_hash': 'ff8f2c86ae87fb29923e141ce5a1147fca204f49d3c3f9f192e90a22dde21ba4', 'type': 'post', 'embedded_urls': ['https://twitter.com/aRd1an_22/status/1609226457095495681/photo/1'], 'created_at': '2023-01-01T05:29:15', 'engagements': {'retweet': 0, 'like': 1, 'comment': 1, 'share': 0}}\n",
      " {'id': 'ce2d73975895776c3c4c4aa926b26826c476ce32911444c5280a833d71d7d0a1', 'post_id': None, 'parent_id': None, 'title': None, 'text': 'RT @ahmedalsadig7: يا صديق مالك مشغول بالك ، قالو لي الحب غيّر حالك❤️ https://t.co/869CHmzy3o', 'author_name_hash': 'cc7985efc7500907e9aeb1eedd6d3ccc1fa4137e6f0dab094d2fe789d6256bb8', 'type': 'post', 'embedded_urls': ['https://twitter.com/ahmedalsadig7/status/1608843632186134530/video/1'], 'created_at': '2023-01-01T01:01:59', 'engagements': {'retweet': 10, 'like': 19, 'comment': 3, 'share': 0}}\n",
      " {'id': '3a80d91c16b071660863cdd77ddd7a35a5957afe7489f33be7bf04bb6791c469', 'post_id': None, 'parent_id': None, 'title': None, 'text': 'RT @NatalioVasquez3: Desgraciao cdm.', 'author_name_hash': '2a31b669ff80b68d03b71ef02a3f1accd8bde1cf19051fa72e5e5c43e020f258', 'type': 'post', 'embedded_urls': [], 'created_at': '2023-01-01T01:01:44', 'engagements': {'retweet': 6, 'like': 9, 'comment': 1, 'share': 0}}\n",
      " {'id': '369287a3f71c7519335548fb99c31ac03aa6b0fbcbb8442d8a301a0b347cfb30', 'post_id': None, 'parent_id': '7ef44bf3fe79dba97ced73292e5db5a4a0c08d35098c9737181b494dbe480a05', 'title': None, 'text': '@subslutboy234 Approach us', 'author_name_hash': '737b7e2cc988fe4e764fda842f055966b8f242838ef5b3b61f341077bc7efb93', 'type': 'post', 'embedded_urls': [], 'created_at': '2023-01-01T23:59:22', 'engagements': {'retweet': 0, 'like': 3, 'comment': 0, 'share': 0}}\n",
      " {'id': '8373113d8c2267b131639550f37bd73a8e7f52ab268635df0e0ec95cebdba524', 'post_id': None, 'parent_id': 'bc2674b4d5b6a4c986f6dc49f3f51a6a715fdce4941e3ee73060f46d5903fb96', 'title': None, 'text': '@UMichFootball FIRE HARBAUGH!!', 'author_name_hash': '179ed7c2b3491f969c8e90297be67b7afc5d2d97efd75ea2b10026695010bbba', 'type': 'post', 'embedded_urls': [], 'created_at': '2023-01-01T01:01:14', 'engagements': {'retweet': 0, 'like': 1, 'comment': 1, 'share': 0}}\n",
      " {'id': 'f4a722008b282b2477b0c89622703e9af7de2fec5ee1bcf0c8c5cb2403f337c8', 'post_id': None, 'parent_id': 'e981443adf1151f507fda9a190ba67af78757a0bff1403055fe06f6234c64c91', 'title': None, 'text': '@HiveBrood The human form would like to try his luck~ https://t.co/BGNdZFqIRN', 'author_name_hash': '9038098ef7bf1352acabb512f5f532f9e3512415d81c48a157c6c4430c355093', 'type': 'post', 'embedded_urls': ['https://twitter.com/FemaleSmiley666/status/1609501987841937411/photo/1'], 'created_at': '2023-01-01T10:49:11', 'engagements': {'retweet': 5, 'like': 12, 'comment': 1, 'share': 0}}\n",
      " {'id': 'c0b6a0976a75cd2eb7fb3cf31c67edef5b785fa49b32b463129abe4df09b182f', 'post_id': None, 'parent_id': '9d5505582909be3a42571226992d31f32a250deffd84011220bc5436e3d21884', 'title': None, 'text': '#こたくんへ https://t.co/KrhVXJDQS0', 'author_name_hash': '8b6f6a4be570a1f25cd18a98b31210c0d8fa0ebe036887a74baa363e964dbefb', 'type': 'post', 'embedded_urls': ['https://twitter.com/ruiii_sab/status/1609354205734768641/photo/1'], 'created_at': '2023-01-01T01:01:57', 'engagements': {'retweet': 0, 'like': 1, 'comment': 0, 'share': 0}}\n",
      " {'id': 'bfbaae37d1869ad4ae9cb414ec16e992899231f2bf7d8ac458e4c61f4fda575e', 'post_id': None, 'parent_id': '0dc1b3fc11d44aec75b957bc8336749738b519d4f6606f439cb5fc3b91f17f2a', 'title': None, 'text': '#成都线下 #成都 https://t.co/6Oc2If0Jey', 'author_name_hash': '9a670631b7eecf2346406aad6c011f05f950c4d01725d1d146a95247521f419b', 'type': 'post', 'embedded_urls': ['https://twitter.com/AprilSkramsta20/status/1609501992065576960/photo/1'], 'created_at': '2023-01-01T10:49:12', 'engagements': {'retweet': 0, 'like': 1, 'comment': 1, 'share': 0}}\n",
      " {'id': 'a1ce90b3308be13e19e78c30def033c4f9866e2135fc95a1c4a5ece3cd2efdf2', 'post_id': None, 'parent_id': '0a69bc6b6171fdd7dd4e89b95b3743e0448911717cc15757b2be8123fdd063c2', 'title': None, 'text': 'でしゃばり陰キャは黙って陰キャを突き通せ', 'author_name_hash': '2d735c2a26bbd946d8b8aa6c6611e243344744ca94cf9ddacabf5749a61370a9', 'type': 'post', 'embedded_urls': [], 'created_at': '2023-01-01T10:49:29', 'engagements': {'retweet': 0, 'like': 1, 'comment': 1, 'share': 0}}\n",
      " {'id': '230315fba15dc10cdb20b4f708738a6e5beb1b697762ef0ec5c131f256a1b885', 'post_id': None, 'parent_id': '342ea46210f035fb61d3c0f990dd0e3f9116a50cc5d05a8af49e3f96ca6868b6', 'title': None, 'text': '@panggilajaputii @tanyarlfes Anehhh...dikasih aliss bagus2 malah pengen di gambar', 'author_name_hash': '3d764d95591aa7beb9c4ad68a088c88e169b6d861c0815bcfd004c2a582611ae', 'type': 'post', 'embedded_urls': [], 'created_at': '2023-01-01T15:46:50', 'engagements': {'retweet': 1, 'like': 3, 'comment': 0, 'share': 0}}\n",
      " {'id': 'd160637ce916752aaf676d7c19f915b1c43b7c65feb64e8cf5ad151566a19f30', 'post_id': None, 'parent_id': '3f6124ef8f0143c42e1d5e39fff1b48946ff16c6abad9745964e3547be9bda7a', 'title': None, 'text': '@TheDrIman ۱-هر کس به هر دلیل(سهوی یا عمدی) بخواهد پیام روشن شکل گیری اتحاد بین اپوزسيون را به حاشیه ببرد، از نظر من (درست یا غلط) عامل جمهوری اسلامی است.\\nمنتشر کنندگان پیام مشترک شب گذشته، هیچ کجا از محوریت فردی سخن نگفتند. بلکه افرادی همچون شاهزاده رضا پهلوی https://t.co/fF9BEGWs0x', 'author_name_hash': 'c7e5206662db6554d0c92d95234fe9adeca7205e621a73aaa6217de39ec7f0d8', 'type': 'post', 'embedded_urls': ['https://twitter.com/Saeed55000/status/1609502096922910721/photo/1'], 'created_at': '2023-01-01T10:49:37', 'engagements': {'retweet': 2, 'like': 3, 'comment': 0, 'share': 0}}\n",
      " {'id': 'e04e1abcf91a634751e068c4f855a7732b446671c4636b76aee3d899777ac3b0', 'post_id': None, 'parent_id': '1953342b1571d4d7a956cb599faae54b2394e79d66737ec199f00a2cbef30874', 'title': None, 'text': '#发票 #开发票 #餐饮票  https://t.co/hWo3nycnue\\nGuy best identify physical ok.\\n😀😋😝💥🤨', 'author_name_hash': '2233d01d39843b5fa71a1fddcf087abad870c3aa75734af7456d517527d43908', 'type': 'post', 'embedded_urls': ['https://twitter.com/Lorrian25275421/status/1608490579620663296/video/1'], 'created_at': '2023-01-01T01:01:47', 'engagements': {'retweet': 1, 'like': 0, 'comment': 1, 'share': 0}}\n",
      " {'id': 'd6ff62a46bfa9c7008aab6a2d8595b58bed6720d62b9a159b86a92324823ac1d', 'post_id': None, 'parent_id': '1196364f19a561fb88a3e41a52f65713155b949fc926501b570896b6fd4c212f', 'title': None, 'text': 'Working this hard is not what i meant by living a soft life!', 'author_name_hash': 'b008d8bfa4e8d1c00e0ca63e827dc1509de0a77436ca923aa603350cde287dfb', 'type': 'post', 'embedded_urls': [], 'created_at': '2023-01-01T01:01:15', 'engagements': {'retweet': 0, 'like': 0, 'comment': 0, 'share': 0}}\n",
      " {'id': 'c1ac166e963ef9578450af1f58584f7cf00f296bd2a61e3476dbf8ddfcde726e', 'post_id': None, 'parent_id': None, 'title': None, 'text': 'she is hella cute but fuck is she complicated https://t.co/ubVK3knujc', 'author_name_hash': '5b3d906ca72a3d389af077f81544a592a3e2a7cd3835e1cb5bf034d966d57986', 'type': 'post', 'embedded_urls': ['https://twitter.com/Elijahplswin/status/1609700843988606984/photo/1'], 'created_at': '2023-01-01T23:59:22', 'engagements': {'retweet': 1, 'like': 0, 'comment': 1, 'share': 0}}\n",
      " {'id': '6bb0d6e36ce16408525180920a4b37f842434f24299aa6d213df660c380f6883', 'post_id': None, 'parent_id': None, 'title': None, 'text': '@chisato_love_t おはよー', 'author_name_hash': '8b8b50b298e83f2a44ab59341417a80fc3a381efcfb4baef18850155053d9cf1', 'type': 'post', 'embedded_urls': [], 'created_at': '2023-01-01T23:59:33', 'engagements': {'retweet': 2, 'like': 4, 'comment': 0, 'share': 0}}\n",
      " {'id': '177cf38112bd476ba474929fef82b12f6627461bacf3ca1b157d28bba83f9575', 'post_id': None, 'parent_id': None, 'title': None, 'text': '#ガルパゆく年くる年☀\\n年賀状キャンペーン✒❣\\n\\nAfterglowのみんなから年賀状が届いたよ♪\\n年賀状はアプリ内で1月8日まで見れます☺\\n\\n✨年賀状を見に行く⬇\\nhttps://t.co/xiZOoiok63\\n#バンドリ #ガルパ #ガルパ年賀状 https://t.co/9cawKBMqMG', 'author_name_hash': 'c84d87b8ce6bc1795dfdeb92b1e51b6ec8d8fdcb6a66463ee5eb539b404002b5', 'type': 'post', 'embedded_urls': ['https://bit.ly/33jwSL1'], 'created_at': '2023-01-01T01:01:47', 'engagements': {'retweet': 8, 'like': 17, 'comment': 2, 'share': 0}}\n",
      " {'id': '8ffcce047c10b8e3a88e6ab0b0c357ec639be19b9c2e7127cd8e2c43d08c7f73', 'post_id': None, 'parent_id': None, 'title': None, 'text': 'New era', 'author_name_hash': '6269cadb8e63ae999d32077f0f6432d738ccf9339efff6721823dcdf7cfd114c', 'type': 'post', 'embedded_urls': [], 'created_at': '2023-01-01T15:46:58', 'engagements': {'retweet': 0, 'like': 0, 'comment': 2, 'share': 0}}\n",
      " {'id': '4e0388f7c84820f851e2cf7f79a3de403005d2a4127c5ac9fe5fe58224c82cb2', 'post_id': None, 'parent_id': '59883e41f62feb0031f5513f1110f1f4144b6a25dea2a15d15391aa499ffa47a', 'title': None, 'text': 'RT @rameshlaus: #ThunivuTrailer Fans celebration in #Madurai - Vera level.. 🔥', 'author_name_hash': 'a3c203426464b8b877fceb21886b36840a8af37746e519c6b8a0686250e6c2ed', 'type': 'post', 'embedded_urls': [], 'created_at': '2023-01-01T15:46:43', 'engagements': {'retweet': 0, 'like': 0, 'comment': 0, 'share': 0}}\n",
      " {'id': 'ea7e963cb8c5075ada2da8f1020a56c1d466e9ddd3b8c54eeca1951558b12888', 'post_id': None, 'parent_id': '9136455d45e5ae7882968f6fce255b8a410d001d1ba7f582ee30fd4b45a87bfd', 'title': None, 'text': 'Dari juni 2021 https://t.co/WvJ030kTKS', 'author_name_hash': '03326a39405d7c045ea82af66709bb3ffe97ab375ec8d9b2c88e759ce7d9f9c2', 'type': 'post', 'embedded_urls': ['https://twitter.com/danacga/status/1609684954614759424'], 'created_at': '2023-01-01T23:59:59', 'engagements': {'retweet': 0, 'like': 4, 'comment': 1, 'share': 0}}\n",
      " {'id': '654160218ab5d8ce475ed0c9dbddc53057f1fc2feedbda303c2371966e1d7851', 'post_id': None, 'parent_id': 'ac3a0a6ee26711bb3b2be9173704875d084798baf83764639f4d8a983aa898a4', 'title': None, 'text': 'RT @DonaldJTrumpJr: Half way to 90 bitches!!! 😜', 'author_name_hash': '614b26bdf4dbfe4722763b4008e1447aaafce0c951c27a8a86464c6d642b33a6', 'type': 'post', 'embedded_urls': [], 'created_at': '2023-01-01T05:29:14', 'engagements': {'retweet': 0, 'like': 2, 'comment': 1, 'share': 0}}\n",
      " {'id': '14886f8988738ef5c1d4c75474bb2fac45673978c63a0718f62d725cf148821e', 'post_id': None, 'parent_id': None, 'title': None, 'text': '@Romain10942536 Courage à toi Romain. ❤️', 'author_name_hash': '6a01289b6ae3f7015051095a59a0f9380e6ab1a3d80b08505eabed368e6c2c19', 'type': 'post', 'embedded_urls': [], 'created_at': '2023-01-01T10:49:28', 'engagements': {'retweet': 0, 'like': 0, 'comment': 0, 'share': 0}}\n",
      " {'id': '8e0d150eb7735af8aaf4ca5fc245c6e5cabe45e2a7bfb72c2c79425ade3ba9b2', 'post_id': None, 'parent_id': '6228d7c7d30b3b5931233178b33e6242f56e8a469af315b9684344c1c2f8142b', 'title': None, 'text': '子供を大量動員する戸田市長。\\n対照的なサイリウムを振る客席の年齢層。\\n#埼玉政財界人チャリティ歌謡祭 https://t.co/ZUH3oIXOfD', 'author_name_hash': '1c627af8ed039bfc5523f28c20797cc4d467cc6b49634b5dab39fbcda5dfd081', 'type': 'post', 'embedded_urls': ['https://twitter.com/Makoto1987/status/1609502184995172353/photo/1'], 'created_at': '2023-01-01T10:49:58', 'engagements': {'retweet': 9, 'like': 14, 'comment': 1, 'share': 0}}\n",
      " {'id': '95e3c9ea46ebdc13a8964746365448582125105553e94f9bbed22edad3dbafef', 'post_id': None, 'parent_id': '734d7d876498c231dbe6b4900843a9e6baeba83f84506f0c837cab088bd1df2c', 'title': None, 'text': 'RT @YashRMFC: One more year to witness Modric and Kroos balling together\\nhttps://t.co/6nR1MYtKdg', 'author_name_hash': 'a3dbab54b0adc88def5a1054550225884e6812ec429f26c84957b931759ae07c', 'type': 'post', 'embedded_urls': ['https://twitter.com/KroosHardPics/status/1552380507861680135/video/1'], 'created_at': '2023-01-01T23:59:51', 'engagements': {'retweet': 8, 'like': 12, 'comment': 2, 'share': 0}}\n",
      " {'id': '82b2be3cc8e285e502118f6b1ea4a09043c7abedadbc100e5f71804633210264', 'post_id': None, 'parent_id': 'd7ad48e8f9e7936f099688375cd0325b551eefc9a5d09e78e657c62e99a70616', 'title': None, 'text': '@simpfjohnny hi, aku ada nih tinggal copas\\n1 hari : 3K\\n2 hari : 5K\\n3 hari : 8K\\n5 hari : 10K\\n7 hari : 12K\\n\\n1U\\nBILL INDO 🇮🇩\\nLEGAL\\nhttps://t.co/bP5nHU3JIp', 'author_name_hash': '376c8db31e13864dce8cf3de365ea0d7c11e654f93012ebbdb7bef2c7f1a1cca', 'type': 'post', 'embedded_urls': ['https://twitter.com/messages/compose?recipient_id=1286644378975399937'], 'created_at': '2023-01-01T15:46:53', 'engagements': {'retweet': 3, 'like': 6, 'comment': 0, 'share': 0}}\n",
      " {'id': 'b9c8934a77acb0a59a87bbbc3f69cb7504630f0292d319e38c3b45d2ab84ad29', 'post_id': None, 'parent_id': None, 'title': None, 'text': 'RT @jox341: @MaherMakahleh https://t.co/MmK5KBS3T8', 'author_name_hash': '0fffaf1c9d780aa06ebe94e6e2b16aecf9a33f1efadde6efe78bb253544b2e5a', 'type': 'post', 'embedded_urls': ['https://twitter.com/jox341/status/1609421359221719040/photo/1'], 'created_at': '2023-01-01T05:29:35', 'engagements': {'retweet': 2, 'like': 0, 'comment': 0, 'share': 0}}\n",
      " {'id': '88c8972a7fca4e615d22159bdea333b640ede0e98a1196a02352bd99e880c1c1', 'post_id': None, 'parent_id': '43f5c63fe10c3abde9b8709aaeeb27e77e8f6ad33f921c2dc0b758c48dd85765', 'title': None, 'text': 'RT @kyoto_daikakuji: ◇予告◇\\n\\n明日令和5年1月1日(日)9時より、「御朱印帳入れ-薄緑膝丸-」の再頒布決定!!\\nご好評いただいておりました御朱印帳入れ-薄緑膝丸-をこの度再頒布することになりました。\\n大覚寺HPからも同日時よりご購入いただけます。\\n※御朱…', 'author_name_hash': '330355156a176ac350a7daa8d7804c2dce6c5cbf73f217373ffee026c8577c85', 'type': 'post', 'embedded_urls': [], 'created_at': '2023-01-01T01:01:51', 'engagements': {'retweet': 2, 'like': 1, 'comment': 1, 'share': 0}}\n",
      " {'id': '7bd2f9b169047555ce83a62d2fa5a1c7e620dd7e6a3e2b44d734c94e7adaec6b', 'post_id': None, 'parent_id': None, 'title': None, 'text': 'RT @benzssdd: พร้อมเข้าโบสถ์ #GRANDsportsday https://t.co/xhNTtmu62p', 'author_name_hash': '0559e21be1f2dbb43f6b5d9a4c0e045293848632d2c58c2da759cfdf9b5362c8', 'type': 'post', 'embedded_urls': ['https://twitter.com/benzssdd/status/1608770098596286469/video/1'], 'created_at': '2023-01-01T15:46:43', 'engagements': {'retweet': 1, 'like': 1, 'comment': 0, 'share': 0}}\n",
      " {'id': '20c1b36a0d4e66f0a8ef1794e49ff0c885f721e196b639d949c81ec3a25b5d84', 'post_id': None, 'parent_id': 'b98b1c07d25474ebd1991ed8bed80463ca7121698064adb0add1b2378007b8a0', 'title': None, 'text': 'NOMAMEEEE M KEVANTE ASUSGAOD PQ CREI QUE M HABIA MEADO Y TMB PQ SONAEON COHETE QUE PARECIA BALAZO', 'author_name_hash': '56ac49058e9aacf9d53b2fb02c936090fafd21dd539dd05536f4a74ade857956', 'type': 'post', 'embedded_urls': [], 'created_at': '2023-01-01T23:59:57', 'engagements': {'retweet': 0, 'like': 0, 'comment': 0, 'share': 0}}\n",
      " {'id': '189d932bfa3348efddd1c592d8bffad096fc05dc71b0c264d5f077c02dceb53f', 'post_id': None, 'parent_id': 'e18253450c4dafc40975a8a059ad1d90986e7957329ac4aeabb37d6b0c4cccd9', 'title': None, 'text': '初売りとかセールとか言われると物欲止まんなくなるからやめて欲しい', 'author_name_hash': 'effc9444e7b51dd28ce3a8a30d9b59b0108acae3538709444c28d2f73a948005', 'type': 'post', 'embedded_urls': [], 'created_at': '2023-01-01T05:29:51', 'engagements': {'retweet': 4, 'like': 9, 'comment': 1, 'share': 0}}\n",
      " {'id': '8fdbda08f531862b3814e273b86ae9917452dee22dcc2770c4d667a8666e2ae2', 'post_id': None, 'parent_id': 'f99c215132949b17221f06f23699c1482f51bb098c08b6a6c5281f8117093ccb', 'title': None, 'text': 'RT @the_thing_doer: https://t.co/y7LuBU2hG8', 'author_name_hash': 'f892aba9494cb3d05fd65c14b8cf95f6a0712b241464512a7667681a5b0340bf', 'type': 'post', 'embedded_urls': ['https://twitter.com/the_thing_doer/status/1609700766536572928/photo/1'], 'created_at': '2023-01-01T23:59:14', 'engagements': {'retweet': 2, 'like': 6, 'comment': 1, 'share': 0}}\n",
      " {'id': '192f66f0bac9f45854d9a0d4da04e193f4a0d7757f96a4382aec7df46646ba94', 'post_id': None, 'parent_id': 'ddb24a8fe67070f97163e9edfec1b9f2514fc2a75bc9d7a42e5b427d9916782c', 'title': None, 'text': '@zebaIford that was nasty', 'author_name_hash': '23b78b76dbb34ac4dbddf3649de2f4a696dcf832f11ab13ff42971b09d285a64', 'type': 'post', 'embedded_urls': [], 'created_at': '2023-01-01T01:01:38', 'engagements': {'retweet': 3, 'like': 1, 'comment': 1, 'share': 0}}\n",
      " {'id': '28faed1b2a78ef729d48ad5923beca3024ce800e571cadcd757d965abe76d24a', 'post_id': None, 'parent_id': '557eec2007f0400375eaece77a33fe288b2fde8dbfcda4d3b15e552e89af470e', 'title': None, 'text': 'RT @Eloise66624128: https://t.co/QtqHb7w75K Susuyordu #ataşehir söyledi yemeli kalp saglıgı hayal döktüre ettigi kadın dememişherkes boşuna…', 'author_name_hash': '80cdef3d6e56a17c3b8a8eaf61686ef3302d244914f11f2208df219f05a0cbbd', 'type': 'post', 'embedded_urls': ['https://twitter.com/Eloise66624128/status/1609576784340598784/photo/1'], 'created_at': '2023-01-01T15:46:27', 'engagements': {'retweet': 0, 'like': 0, 'comment': 0, 'share': 0}}]\n"
     ]
    },
    {
     "ename": "TypeError",
     "evalue": "unhashable type: 'dict'",
     "output_type": "error",
     "traceback": [
      "\u001b[0;31m---------------------------------------------------------------------------\u001b[0m",
      "\u001b[0;31mTypeError\u001b[0m                                 Traceback (most recent call last)",
      "Cell \u001b[0;32mIn[154], line 13\u001b[0m\n\u001b[1;32m     11\u001b[0m platform_name \u001b[38;5;241m=\u001b[39m platform_names[i]\n\u001b[1;32m     12\u001b[0m user_feed \u001b[38;5;241m=\u001b[39m user_history(platform, history)\n\u001b[0;32m---> 13\u001b[0m \u001b[43muser_feed\u001b[49m\u001b[38;5;241;43m.\u001b[39;49m\u001b[43mrun_ranker\u001b[49m\u001b[43m(\u001b[49m\u001b[43m)\u001b[49m\n\u001b[1;32m     14\u001b[0m user_feed\u001b[38;5;241m.\u001b[39mwrite_to_json(platform_name, history)\n",
      "Cell \u001b[0;32mIn[153], line 53\u001b[0m, in \u001b[0;36muser_history.run_ranker\u001b[0;34m(self, sample_count)\u001b[0m\n\u001b[1;32m     51\u001b[0m \u001b[38;5;28;01mdef\u001b[39;00m \u001b[38;5;21mrun_ranker\u001b[39m(\u001b[38;5;28mself\u001b[39m, sample_count \u001b[38;5;241m=\u001b[39m \u001b[38;5;241m600\u001b[39m):\n\u001b[1;32m     52\u001b[0m     \u001b[38;5;28;01mfor\u001b[39;00m i \u001b[38;5;129;01min\u001b[39;00m \u001b[38;5;28mrange\u001b[39m(sample_count):\n\u001b[0;32m---> 53\u001b[0m         \u001b[38;5;28;43mself\u001b[39;49m\u001b[38;5;241;43m.\u001b[39;49m\u001b[43msample_feed\u001b[49m\u001b[43m(\u001b[49m\u001b[43msize\u001b[49m\u001b[38;5;241;43m=\u001b[39;49m\u001b[38;5;241;43m50\u001b[39;49m\u001b[43m)\u001b[49m\n",
      "Cell \u001b[0;32mIn[153], line 28\u001b[0m, in \u001b[0;36muser_history.sample_feed\u001b[0;34m(self, size)\u001b[0m\n\u001b[1;32m     26\u001b[0m     \u001b[38;5;28mself\u001b[39m\u001b[38;5;241m.\u001b[39mhistory[\u001b[38;5;28mself\u001b[39m\u001b[38;5;241m.\u001b[39muser] \u001b[38;5;241m=\u001b[39m {}\n\u001b[1;32m     27\u001b[0m     sample \u001b[38;5;241m=\u001b[39m np\u001b[38;5;241m.\u001b[39mrandom\u001b[38;5;241m.\u001b[39mchoice(\u001b[38;5;28mself\u001b[39m\u001b[38;5;241m.\u001b[39mfeed, size\u001b[38;5;241m=\u001b[39msize,replace\u001b[38;5;241m=\u001b[39m\u001b[38;5;28;01mFalse\u001b[39;00m)\n\u001b[0;32m---> 28\u001b[0m     \u001b[38;5;28;43mself\u001b[39;49m\u001b[38;5;241;43m.\u001b[39;49m\u001b[43mupdate_history\u001b[49m\u001b[43m(\u001b[49m\u001b[43msample\u001b[49m\u001b[43m)\u001b[49m\n\u001b[1;32m     29\u001b[0m \u001b[38;5;28;01melse\u001b[39;00m:\n\u001b[1;32m     31\u001b[0m     seen_ids \u001b[38;5;241m=\u001b[39m {item \u001b[38;5;28;01mfor\u001b[39;00m item \u001b[38;5;129;01min\u001b[39;00m \u001b[38;5;28mself\u001b[39m\u001b[38;5;241m.\u001b[39mhistory[\u001b[38;5;28mself\u001b[39m\u001b[38;5;241m.\u001b[39muser]}\n",
      "Cell \u001b[0;32mIn[153], line 15\u001b[0m, in \u001b[0;36muser_history.update_history\u001b[0;34m(self, sample)\u001b[0m\n\u001b[1;32m     13\u001b[0m \u001b[38;5;28mprint\u001b[39m(sample)\n\u001b[1;32m     14\u001b[0m \u001b[38;5;28;01mfor\u001b[39;00m item \u001b[38;5;129;01min\u001b[39;00m sample:\n\u001b[0;32m---> 15\u001b[0m     \u001b[38;5;28;01mif\u001b[39;00m \u001b[43mitem\u001b[49m\u001b[43m \u001b[49m\u001b[38;5;129;43;01min\u001b[39;49;00m\u001b[43m \u001b[49m\u001b[38;5;28;43mself\u001b[39;49m\u001b[38;5;241;43m.\u001b[39;49m\u001b[43mhistory\u001b[49m\u001b[43m[\u001b[49m\u001b[38;5;28;43mself\u001b[39;49m\u001b[38;5;241;43m.\u001b[39;49m\u001b[43muser\u001b[49m\u001b[43m]\u001b[49m:\n\u001b[1;32m     16\u001b[0m         \u001b[38;5;28mself\u001b[39m\u001b[38;5;241m.\u001b[39mhistory[\u001b[38;5;28mself\u001b[39m\u001b[38;5;241m.\u001b[39muser][item] \u001b[38;5;241m+\u001b[39m\u001b[38;5;241m=\u001b[39m \u001b[38;5;241m1\u001b[39m\n\u001b[1;32m     17\u001b[0m     \u001b[38;5;28;01melse\u001b[39;00m:\n",
      "\u001b[0;31mTypeError\u001b[0m: unhashable type: 'dict'"
     ]
    }
   ],
   "source": [
    "twitter_hist = {}\n",
    "reddit_hist = {}\n",
    "facebook_hist = {}\n",
    "\n",
    "histories  = [twitter_hist, reddit_hist, facebook_hist]\n",
    "platforms = [twitter, reddit, facebook]\n",
    "platform_names = ['twitter', 'reddit', 'facebook']\n",
    "for i in range(len(platforms)):\n",
    "    platform = platforms[i]\n",
    "    history = histories[i]\n",
    "    platform_name = platform_names[i]\n",
    "    user_feed = user_history(platform, history)\n",
    "    user_feed.run_ranker()\n",
    "    user_feed.write_to_json(platform_name, history)"
   ]
  }
 ],
 "metadata": {
  "kernelspec": {
   "display_name": "mercy",
   "language": "python",
   "name": "python3"
  },
  "language_info": {
   "codemirror_mode": {
    "name": "ipython",
    "version": 3
   },
   "file_extension": ".py",
   "mimetype": "text/x-python",
   "name": "python",
   "nbconvert_exporter": "python",
   "pygments_lexer": "ipython3",
   "version": "3.9.18"
  }
 },
 "nbformat": 4,
 "nbformat_minor": 2
}
