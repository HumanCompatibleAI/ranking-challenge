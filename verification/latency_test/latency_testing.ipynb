{
 "cells": [
  {
   "cell_type": "code",
   "execution_count": 1,
   "metadata": {},
   "outputs": [],
   "source": [
    "import json\n",
    "import random\n",
    "import time\n",
    "from collections import defaultdict\n",
    "\n",
    "import pandas as pd\n",
    "import requests\n",
    "from fastapi.encoders import jsonable_encoder\n",
    "from ranking_challenge.fake import fake_request\n",
    "from ranking_challenge.request import ContentItem, RankingRequest\n",
    "from tqdm import tqdm\n",
    "\n"
   ]
  },
  {
   "cell_type": "code",
   "execution_count": 2,
   "metadata": {},
   "outputs": [],
   "source": [
    "facebook = pd.read_json('facebook_feed.json')\n",
    "reddit = pd.read_json('reddit_feed.json')\n",
    "twitter = pd.read_json('twitter_feed.json')"
   ]
  },
  {
   "cell_type": "code",
   "execution_count": 3,
   "metadata": {},
   "outputs": [],
   "source": [
    "TARGET_LATENCY = 0.5  # Target latency in seconds (500ms p95)\n",
    "NUM_REQUESTS = 600   # Number of requests for each platform to generate a statistically valid sample\n",
    "PLATFORMS = ['Facebook', 'Reddit', 'Twitter']\n",
    "SAMPLES = {'Facebook' : facebook, 'Reddit' : reddit, 'Twitter': twitter}"
   ]
  },
  {
   "cell_type": "code",
   "execution_count": 4,
   "metadata": {},
   "outputs": [],
   "source": [
    "# DataFrame to store latency, platform, and number of items\n",
    "results_df = pd.DataFrame(columns=['Platform', 'Latency', 'Num_Items'])"
   ]
  },
  {
   "cell_type": "code",
   "execution_count": 5,
   "metadata": {},
   "outputs": [],
   "source": [
    "# Generates the next request for the platform by iterating through the\n",
    "# dataframe for the next sample, and returning it in json format. Goes through\n",
    "# each dataframe individually\n",
    "selected_rows = {}\n",
    "def generate_items(platform):\n",
    "    selected_rows = {}\n",
    "    df = SAMPLES.get(platform)\n",
    "\n",
    "    selected_indices = selected_rows.get(platform, [])\n",
    "    filtered_df = df[~df.index.isin(selected_indices)]\n",
    "\n",
    "    next_row = filtered_df.iloc[0] if not filtered_df.empty else None\n",
    "\n",
    "    # Update selected_rows dictionary\n",
    "    if next_row is not None:\n",
    "        selected_indices.append(next_row.name)\n",
    "        selected_rows[platform] = selected_indices\n",
    "\n",
    "    content_items = [ContentItem.model_validate(item_df) for item_df in next_row]\n",
    "    return content_items\n"
   ]
  },
  {
   "cell_type": "code",
   "execution_count": 6,
   "metadata": {},
   "outputs": [],
   "source": [
    "def issue_request(platform, url):\n",
    "    items = generate_items(platform)\n",
    "    request = fake_request(n_posts=0, n_comments=0, platform=platform.lower())\n",
    "    request.items = items\n",
    "\n",
    "    start_time = time.time()\n",
    "    #application should be running on localhost:8000\n",
    "    response = requests.post(url, json=jsonable_encoder(request))\n",
    "    if response.status_code != 200:\n",
    "        raise Exception('Request failed with status code: {}, error: {}'.format(response.status_code, response.text))\n",
    "    #should I be storing this response somewhere?\n",
    "    end_time = time.time()\n",
    "    latency = end_time - start_time\n",
    "    # Store latency, platform, and number of items in DataFrame\n",
    "    results_df.loc[len(results_df)] = [platform, latency, len(request.items)]\n",
    "    return latency\n"
   ]
  },
  {
   "cell_type": "code",
   "execution_count": 7,
   "metadata": {},
   "outputs": [],
   "source": [
    "# Main function to run the test\n",
    "latencies = defaultdict(list)\n",
    "def run_test(url):\n",
    "    for platform in PLATFORMS:\n",
    "        for _ in tqdm(range(NUM_REQUESTS), f\"Platform: {platform}\"):\n",
    "            latency = issue_request(platform, url)\n",
    "            latencies[platform].append(latency)\n"
   ]
  },
  {
   "cell_type": "code",
   "execution_count": 8,
   "metadata": {},
   "outputs": [
    {
     "name": "stderr",
     "output_type": "stream",
     "text": [
      "Platform: Facebook:   0%|          | 0/600 [00:00<?, ?it/s]"
     ]
    },
    {
     "name": "stderr",
     "output_type": "stream",
     "text": [
      "Platform: Facebook: 100%|██████████| 600/600 [00:08<00:00, 72.07it/s]\n",
      "Platform: Reddit: 100%|██████████| 600/600 [00:07<00:00, 79.95it/s]\n",
      "Platform: Twitter: 100%|██████████| 600/600 [00:05<00:00, 105.12it/s]\n"
     ]
    }
   ],
   "source": [
    "# Execute the test\n",
    "run_test('http://localhost:8000/rank')"
   ]
  },
  {
   "cell_type": "code",
   "execution_count": 9,
   "metadata": {},
   "outputs": [],
   "source": [
    "# this is where we could do something with the latencies."
   ]
  },
  {
   "cell_type": "code",
   "execution_count": null,
   "metadata": {},
   "outputs": [],
   "source": []
  }
 ],
 "metadata": {
  "kernelspec": {
   "display_name": "Python 3",
   "language": "python",
   "name": "python3"
  },
  "language_info": {
   "codemirror_mode": {
    "name": "ipython",
    "version": 3
   },
   "file_extension": ".py",
   "mimetype": "text/x-python",
   "name": "python",
   "nbconvert_exporter": "python",
   "pygments_lexer": "ipython3",
   "version": "3.12.1"
  }
 },
 "nbformat": 4,
 "nbformat_minor": 2
}
