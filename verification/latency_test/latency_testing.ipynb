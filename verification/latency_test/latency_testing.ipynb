{
 "cells": [
  {
   "cell_type": "code",
   "execution_count": 1,
   "metadata": {},
   "outputs": [],
   "source": [
    "import numpy as np\n",
    "from latency_testing import PLATFORMS, get_p95_latency, issue_request, results_df\n",
    "from tqdm import tqdm\n"
   ]
  },
  {
   "cell_type": "code",
   "execution_count": 2,
   "metadata": {},
   "outputs": [],
   "source": [
    "TARGET_LATENCY = 0.5  # Target latency in seconds (500ms p95)\n",
    "NUM_REQUESTS = 600   # Number of requests for each platform to generate a statistically valid sample"
   ]
  },
  {
   "cell_type": "code",
   "execution_count": 4,
   "metadata": {},
   "outputs": [],
   "source": [
    "# Main function to run the test\n",
    "def run_test(url):\n",
    "    for platform in PLATFORMS:\n",
    "        for _ in tqdm(range(NUM_REQUESTS), f\"Platform: {platform}\"):\n",
    "            issue_request(platform, url, results_df)\n"
   ]
  },
  {
   "cell_type": "code",
   "execution_count": 5,
   "metadata": {},
   "outputs": [
    {
     "name": "stderr",
     "output_type": "stream",
     "text": [
      "Platform: Facebook: 100%|██████████| 600/600 [00:09<00:00, 64.11it/s]\n",
      "Platform: Reddit: 100%|██████████| 600/600 [00:09<00:00, 64.87it/s]\n",
      "Platform: Twitter: 100%|██████████| 600/600 [00:06<00:00, 96.53it/s] \n"
     ]
    }
   ],
   "source": [
    "# Execute the test\n",
    "run_test('http://localhost:8000/rank')"
   ]
  },
  {
   "cell_type": "code",
   "execution_count": 6,
   "metadata": {},
   "outputs": [
    {
     "name": "stdout",
     "output_type": "stream",
     "text": [
      "All requests pass for Facebook! p95 was 0.021 seconds.\n",
      "All requests pass for Reddit! p95 was 0.019 seconds.\n",
      "All requests pass for Twitter! p95 was 0.013 seconds.\n"
     ]
    }
   ],
   "source": [
    "for platform in PLATFORMS:\n",
    "    p95 = get_p95_latency(results_df[results_df['Platform'] == platform])\n",
    "    if p95 <= TARGET_LATENCY:\n",
    "        print(f\"All requests pass for {platform}! p95 was {p95:.3f} seconds.\")\n",
    "    else:\n",
    "        print(f\"Some requests do not pass for {platform}. p95 was {p95:.3f} seconds.\")"
   ]
  },
  {
   "cell_type": "code",
   "execution_count": null,
   "metadata": {},
   "outputs": [],
   "source": []
  }
 ],
 "metadata": {
  "kernelspec": {
   "display_name": "Python 3",
   "language": "python",
   "name": "python3"
  },
  "language_info": {
   "codemirror_mode": {
    "name": "ipython",
    "version": 3
   },
   "file_extension": ".py",
   "mimetype": "text/x-python",
   "name": "python",
   "nbconvert_exporter": "python",
   "pygments_lexer": "ipython3",
   "version": "3.12.1"
  }
 },
 "nbformat": 4,
 "nbformat_minor": 2
}
